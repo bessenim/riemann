{
 "cells": [
  {
   "cell_type": "code",
   "execution_count": 45,
   "metadata": {
    "collapsed": false
   },
   "outputs": [
    {
     "name": "stdout",
     "output_type": "stream",
     "text": [
      "4\n",
      "6\n",
      "7\n",
      "9\n",
      " \t4 \t5 \t\n",
      "7 \t28 \t35 \t\n",
      "8 \t32 \t40 \t\n"
     ]
    }
   ],
   "source": [
    "#таблица умножения b>a, d>c\n",
    "a = int(raw_input())\n",
    "b = int(raw_input())\n",
    "c = int(raw_input())\n",
    "d = int(raw_input())\n",
    "print ' \\t',\n",
    "for i in range(a, b):\n",
    "    print i, '\\t',\n",
    "print\n",
    "for j in range(c, d):\n",
    "    print j, '\\t',\n",
    "    for i in range(a, b):\n",
    "        print j * i, '\\t',\n",
    "    print "
   ]
  },
  {
   "cell_type": "code",
   "execution_count": 46,
   "metadata": {
    "collapsed": false
   },
   "outputs": [
    {
     "name": "stdout",
     "output_type": "stream",
     "text": [
      "1\n",
      "1000\n",
      "501.0\n"
     ]
    }
   ],
   "source": [
    "#сумма чисел на отрезке, делящихся на 3\n",
    "a = int(raw_input())\n",
    "b = int(raw_input())\n",
    "s = 0\n",
    "k = 0\n",
    "for i in range (a,b+1):\n",
    "    if i % 3 == 0:\n",
    "        s += i\n",
    "        k += 1\n",
    "print s/float(k)"
   ]
  },
  {
   "cell_type": "code",
   "execution_count": 51,
   "metadata": {
    "collapsed": false
   },
   "outputs": [
    {
     "name": "stdout",
     "output_type": "stream",
     "text": [
      "adfadfsdGGGsadasdCCCC\n",
      "33.3333333333\n"
     ]
    }
   ],
   "source": [
    "# процентное содержание G и C\n",
    "s = raw_input()\n",
    "i = 0\n",
    "s.upper()\n",
    "j = len(s)\n",
    "for x in s:\n",
    "    if (x == 'G' or x == 'C'):\n",
    "        i += 1\n",
    "print ((float(i) / j)* 100)"
   ]
  },
  {
   "cell_type": "code",
   "execution_count": 47,
   "metadata": {
    "collapsed": false
   },
   "outputs": [
    {
     "name": "stdout",
     "output_type": "stream",
     "text": [
      "aaaaaaabbbbbcc\n",
      "a7b5c2\n"
     ]
    }
   ],
   "source": [
    "# aaabbbccc -> a3b3c3\n",
    "s = raw_input()\n",
    "i = 1\n",
    "j = 1\n",
    "S = ''\n",
    "while (i < len(s) + 1):\n",
    "    while (i < len(s) and s[i] == s[i-1]):\n",
    "        j += 1\n",
    "        i += 1\n",
    "    S += s[i-1]+str(j)\n",
    "    j = 1\n",
    "    i += 1\n",
    "print S"
   ]
  },
  {
   "cell_type": "code",
   "execution_count": null,
   "metadata": {
    "collapsed": false
   },
   "outputs": [],
   "source": [
    "students = ['Ivan', 'Masha', 'Sasha']\n",
    "students += ['Olga']\n",
    "students += 'Olga'\n",
    "print students"
   ]
  },
  {
   "cell_type": "code",
   "execution_count": 48,
   "metadata": {
    "collapsed": false
   },
   "outputs": [
    {
     "name": "stdout",
     "output_type": "stream",
     "text": [
      "1 2 3 4 5\n",
      "15\n"
     ]
    }
   ],
   "source": [
    "s = 0\n",
    "a = [int(i) for i in raw_input().split()]\n",
    "for i in a:\n",
    "    s += i\n",
    "print s"
   ]
  },
  {
   "cell_type": "code",
   "execution_count": 49,
   "metadata": {
    "collapsed": false
   },
   "outputs": [
    {
     "name": "stdout",
     "output_type": "stream",
     "text": [
      "1 2 3 4 5 6 \n",
      "8 4 6 8 10 6\n"
     ]
    }
   ],
   "source": [
    "#ввод строки чисел, вывод строки с суммами 2 соседей\n",
    "a = [int(i) for i in raw_input().split()]\n",
    "b = []\n",
    "j = 0\n",
    "l = len(a)\n",
    "if l != 1:\n",
    "    for i in a:\n",
    "        b.append (a[(j+1) % l] + a[(j-1) % l])\n",
    "        j += 1\n",
    "    for x in b:\n",
    "        print x,\n",
    "else: \n",
    "    print a[0]"
   ]
  },
  {
   "cell_type": "code",
   "execution_count": 50,
   "metadata": {
    "collapsed": false
   },
   "outputs": [
    {
     "name": "stdout",
     "output_type": "stream",
     "text": [
      "1 1 1 1 2 2 3\n",
      "1 2\n"
     ]
    }
   ],
   "source": [
    "#вывод повторяющихся элементов\n",
    "a = [int(i) for i in raw_input().split()]\n",
    "b = []\n",
    "a.sort()\n",
    "for i in a:\n",
    "    #print a\n",
    "    j = a.count(i)\n",
    "    if (j > 1):\n",
    "        b.append(i)\n",
    "    for k in range(j-1):\n",
    "        a.remove(i)\n",
    "    #print a\n",
    "for x in b:\n",
    "    print x,"
   ]
  },
  {
   "cell_type": "code",
   "execution_count": 52,
   "metadata": {
    "collapsed": false
   },
   "outputs": [
    {
     "name": "stdout",
     "output_type": "stream",
     "text": [
      "10 10 5\n",
      "5 9\n",
      "4 4\n",
      "2 8\n",
      "7 3\n",
      "7 5\n",
      ". . . . . . 1 1 1 .\n",
      ". . . . . . 1 * 1 .\n",
      ". . 1 1 1 . 1 1 1 .\n",
      ". . 1 * 1 . . 1 1 1\n",
      ". . 1 1 1 . . 1 * 1\n",
      ". 1 1 2 1 1 . 1 1 1\n",
      ". 1 * 2 * 1 . . . .\n",
      ". 1 1 2 1 1 . . . .\n",
      ". . . . . . . . . .\n",
      ". . . . . . . . . .\n"
     ]
    }
   ],
   "source": [
    "#сапер k - мины, m x n - поле\n",
    "n, m, k = (int(i) for i in raw_input().split())\n",
    "a = [[0 for j in range(m)] for i in range(n)]\n",
    "for i in range(k):\n",
    "    row, col = (int(i) - 1 for i in raw_input().split())\n",
    "    a[row][col] = -1\n",
    "for i in range(n):\n",
    "    for j in range(m):\n",
    "        if a[i][j] == 0:\n",
    "            for di in range(-1, 2):\n",
    "                for dj in range(-1, 2):\n",
    "                    ai = i + di\n",
    "                    aj = j + dj\n",
    "                    # (ai, aj)\n",
    "                    if 0 <= ai < n and 0 <= aj < m and a[ai][aj] == -1:\n",
    "                        a[i][j] += 1\n",
    "for i in range(n):\n",
    "    for j in range(m):\n",
    "        if a[i][j] == -1:\n",
    "            print '*',\n",
    "        elif a[i][j] == 0:\n",
    "            print'.',\n",
    "        else:\n",
    "            print a[i][j],\n",
    "    print"
   ]
  },
  {
   "cell_type": "code",
   "execution_count": 53,
   "metadata": {
    "collapsed": false
   },
   "outputs": [
    {
     "name": "stdout",
     "output_type": "stream",
     "text": [
      "1\n",
      "2\n",
      "-2\n",
      "3\n",
      "-4\n",
      "34\n"
     ]
    }
   ],
   "source": [
    "#считывание чисел, пока сумма не станет 0, тогда выводим сумму квадратов\n",
    "i = int(raw_input())\n",
    "s = i\n",
    "s2 = i ** 2\n",
    "while (s != 0):\n",
    "    i = int(raw_input())\n",
    "    s += i\n",
    "    s2 += i ** 2\n",
    "print s2"
   ]
  },
  {
   "cell_type": "code",
   "execution_count": null,
   "metadata": {
    "collapsed": false
   },
   "outputs": [],
   "source": [
    "#выводит n чисел из посл-ти 1223334444...\n",
    "n = int(raw_input())\n",
    "s = []\n",
    "S = ''\n",
    "i = 1\n",
    "j = 0\n",
    "while (j < n):\n",
    "    s += [str(i)] * i\n",
    "    j += i\n",
    "    i += 1\n",
    "for i in range(n):\n",
    "    S += s[i] + ' '\n",
    "print (S)"
   ]
  },
  {
   "cell_type": "code",
   "execution_count": null,
   "metadata": {
    "collapsed": false
   },
   "outputs": [],
   "source": [
    "#вывод позиций определенного числа в строке\n",
    "a = [int(i) for i in raw_input().split()]\n",
    "x = int(raw_input())\n",
    "if x not in a:\n",
    "    print ('Отсутствует')\n",
    "while (x in a):\n",
    "    ind = a.index(x)\n",
    "    print ind,\n",
    "    a.remove(x)\n",
    "    a.insert(ind, '.')"
   ]
  },
  {
   "cell_type": "code",
   "execution_count": null,
   "metadata": {
    "collapsed": false
   },
   "outputs": [],
   "source": [
    "#матрица -> матрица с пересчитанными элементами\n",
    "b = []\n",
    "a = [i for i in raw_input().split()]\n",
    "p = len(a)\n",
    "j = 0\n",
    "if (a[0] == 'end'):\n",
    "    print b\n",
    "else:\n",
    "    while (a[0] != 'end'):\n",
    "        b.append(a)\n",
    "        j += 1\n",
    "        a = [i for i in raw_input().split()]\n",
    "    else:\n",
    "        for k in range(j):\n",
    "            for m in range(p):\n",
    "                b[k][m] = int(b[k][m])\n",
    "        c = [[0] * p for i in range(j)]\n",
    "        for k in range(j):\n",
    "            for m in range(p):\n",
    "                c[k][m] = b[(k-1)%j][m] + b[(k+1)%j][m] + b[k][(m+1)%p] + b[k][(m-1)%p]\n",
    "                print c[k][m],\n",
    "            print   "
   ]
  },
  {
   "cell_type": "code",
   "execution_count": 55,
   "metadata": {
    "collapsed": false
   },
   "outputs": [
    {
     "name": "stdout",
     "output_type": "stream",
     "text": [
      "10\n",
      "1 2 3 4 5 6 7 8 9 10\n",
      "36 37 38 39 40 41 42 43 44 11\n",
      "35 64 65 66 67 68 69 70 45 12\n",
      "34 63 84 85 86 87 88 71 46 13\n",
      "33 62 83 96 97 98 89 72 47 14\n",
      "32 61 82 95 100 99 90 73 48 15\n",
      "31 60 81 94 93 92 91 74 49 16\n",
      "30 59 80 79 78 77 76 75 50 17\n",
      "29 58 57 56 55 54 53 52 51 18\n",
      "28 27 26 25 24 23 22 21 20 19\n"
     ]
    }
   ],
   "source": [
    "#вывод в матрицу по спирали элементов от 1 до n^2\n",
    "n = int(raw_input())\n",
    "a = [[-1] * (n + 2) for i in range(n + 2)]\n",
    "for k in range(1, n + 1):\n",
    "    for m in range(1, n + 1):\n",
    "        a[k][m] = 0\n",
    "#for k in range(n + 2):\n",
    "#    for m in range(n + 2):\n",
    "#        print a[k][m], \n",
    "#    print\n",
    "num = 0\n",
    "row, col = 1, 0\n",
    "\n",
    "while (num < n ** 2):\n",
    "    #print \"lol start\"\n",
    "    while (a[row][col + 1] == 0):\n",
    "        num += 1\n",
    "        col += 1\n",
    "        a[row][col] = num \n",
    "        #print num, \n",
    "    while (a[row + 1][col] == 0):\n",
    "        num += 1\n",
    "        row += 1\n",
    "        a[row][col] = num\n",
    "        #print num,\n",
    "    while (a[row][col - 1] == 0):\n",
    "        num += 1\n",
    "        col -= 1\n",
    "        a[row][col] = num\n",
    "        #print num,\n",
    "    while (a[row - 1][col] == 0):\n",
    "        num += 1\n",
    "        row -= 1\n",
    "        a[row][col] = num\n",
    "        #print num,\n",
    "    #print \"lol\"\n",
    "for k in range(1, n + 1):\n",
    "    for m in range(1, n + 1):\n",
    "        print a[k][m],\n",
    "    print"
   ]
  },
  {
   "cell_type": "code",
   "execution_count": 1,
   "metadata": {
    "collapsed": false
   },
   "outputs": [
    {
     "data": {
      "text/plain": [
       "10555"
      ]
     },
     "execution_count": 1,
     "metadata": {},
     "output_type": "execute_result"
    }
   ],
   "source": [
    "def f(x):\n",
    "    if (x <= -2):\n",
    "        return (1 - (x+2)**2)\n",
    "    elif (-2 < x <= 2):\n",
    "        return (-x/2)\n",
    "    else:\n",
    "        return ((x-2)**2 + 1)"
   ]
  },
  {
   "cell_type": "code",
   "execution_count": 32,
   "metadata": {
    "collapsed": false
   },
   "outputs": [
    {
     "name": "stdout",
     "output_type": "stream",
     "text": [
      "None\n",
      "[1, 2, 3]\n",
      "[1]\n",
      "[5, 4]\n"
     ]
    }
   ],
   "source": [
    "#удаляет нечетные, четные делит пополам\n",
    "def modify_list(l):\n",
    "    s = []\n",
    "    for i in l:\n",
    "        if (i % 2 == 0):\n",
    "            j = i // 2\n",
    "            s.append(j)\n",
    "    for i in range(len(l) - 1,-1,-1):\n",
    "        del l[i]\n",
    "    for i in s:\n",
    "        l.append(i)\n",
    "lst = [1, 2, 3, 4, 5, 6]\n",
    "print(modify_list(lst))  # None\n",
    "print(lst)               # [1, 2, 3]\n",
    "modify_list(lst)\n",
    "print(lst) \n",
    "\n",
    "lst = [10, 5, 8, 3]\n",
    "modify_list(lst)\n",
    "print(lst)   "
   ]
  },
  {
   "cell_type": "code",
   "execution_count": 38,
   "metadata": {
    "collapsed": false
   },
   "outputs": [
    {
     "name": "stdout",
     "output_type": "stream",
     "text": [
      "None\n",
      "{2: [-1]}\n",
      "{2: [-1, -2]}\n",
      "{2: [-1, -2, -3]}\n"
     ]
    }
   ],
   "source": [
    "#Напишите функцию update_dictionary(d, key, value), которая принимает на вход словарь d и два числа: key и value.\n",
    "#если ключ есть, то добавить, иначе добавить в 2*key\n",
    "def update_dictionary(d, key, value):\n",
    "    if key in d:\n",
    "        d[key] += [value]\n",
    "    elif 2*key in d:\n",
    "        d[2*key] += [value]\n",
    "    else:\n",
    "        d[2*key] = [value]\n",
    "\n",
    "d = {}\n",
    "print(update_dictionary(d, 1, -1))  # None\n",
    "print(d)                            # {2: [-1]}\n",
    "update_dictionary(d, 2, -2)\n",
    "print(d)                            # {2: [-1, -2]}\n",
    "update_dictionary(d, 1, -3)\n",
    "print(d)                            # {2: [-1, -2, -3]}"
   ]
  },
  {
   "cell_type": "code",
   "execution_count": 49,
   "metadata": {
    "collapsed": false
   },
   "outputs": [
    {
     "name": "stdout",
     "output_type": "stream",
     "text": [
      "AAA aaa aAa aaaaa\n",
      "aaaaa 1\n",
      "aaa 3\n"
     ]
    }
   ],
   "source": [
    "#вывести распределение слов в строке (без учета регистра)\n",
    "a = [i for i in raw_input().split()]\n",
    "b = []\n",
    "d = {}\n",
    "for i in a:\n",
    "    b.append(i.lower())\n",
    "for i in b:\n",
    "    if i in d:\n",
    "        d[i] += 1\n",
    "    else:\n",
    "        d[i] = 1\n",
    "for key, value in d.items():\n",
    "    print key, value"
   ]
  },
  {
   "cell_type": "code",
   "execution_count": 60,
   "metadata": {
    "collapsed": false
   },
   "outputs": [
    {
     "name": "stdout",
     "output_type": "stream",
     "text": [
      "3\n",
      "1\n",
      "2\n",
      "2\n",
      "1\n",
      "4\n",
      "4\n"
     ]
    }
   ],
   "source": [
    "def f(x):\n",
    "    return x**2\n",
    "n = int(raw_input())\n",
    "d = {}\n",
    "s = []\n",
    "for i in range(n):\n",
    "    x = int(raw_input())\n",
    "    s.append(x)\n",
    "    if x not in d:\n",
    "        d[x] = f(x)\n",
    "for i in s:\n",
    "    print d[i]\n"
   ]
  },
  {
   "cell_type": "code",
   "execution_count": 23,
   "metadata": {
    "collapsed": false
   },
   "outputs": [],
   "source": [
    "#расшифровать a2b3c4 = aabbbcccc\n",
    "with open('dataset_3363_2.txt') as inf:\n",
    "    s = inf.readline().strip()\n",
    "#s = 'a10b4c2d20'\n",
    "l = len(s)\n",
    "j = ''\n",
    "res = ''\n",
    "k = 0\n",
    "d = {'0','1','2','3','4','5','6','7','8','9'}\n",
    "for i in range(1, l):\n",
    "    if s[i] in d:\n",
    "        j += s[i]\n",
    "        k += 1\n",
    "    else:\n",
    "        res += s[i - k - 1] * int(j)\n",
    "        j = ''\n",
    "        k = 0\n",
    "res += s[l - k - 1] * int(j)\n",
    "with open('out.txt', 'w') as out:\n",
    "    out.write(res)\n"
   ]
  },
  {
   "cell_type": "code",
   "execution_count": 44,
   "metadata": {
    "collapsed": false
   },
   "outputs": [],
   "source": [
    "#самое часто встречающееся слово\n",
    "#s = 'ccCc bbb Cccc aaa aaa cccC bbbb bbbb bbbb'\n",
    "s = ''\n",
    "with open ('dataset_3363_3.txt') as inf:\n",
    "    for line in inf:\n",
    "        line = line.strip()\n",
    "        s += (line + ' ')\n",
    "#print s\n",
    "d = {}\n",
    "j = ''\n",
    "i = 0\n",
    "l = len(s)\n",
    "for i in range(l):\n",
    "    if (s[i] != ' '):\n",
    "        j += s[i].lower()\n",
    "        i += 1\n",
    "    else:\n",
    "        if j in d:\n",
    "            d[j] += 1\n",
    "        else:\n",
    "            d[j] = 1\n",
    "        j = ''\n",
    "        i += 1\n",
    "if j in d:\n",
    "    d[j] += 1\n",
    "else:\n",
    "    d[j] = 1\n",
    "m = 0\n",
    "win = ''\n",
    "for key in d:\n",
    "    if (d[key] > m) or (d[key] == m and key < win):\n",
    "        m = d[key]\n",
    "        win = key\n",
    "with open('out.txt', 'w') as out:\n",
    "    out.write(win+' '+str(m))"
   ]
  },
  {
   "cell_type": "code",
   "execution_count": 73,
   "metadata": {
    "collapsed": false
   },
   "outputs": [],
   "source": [
    "#посчитать средние баллы по предметам и по ученикам\n",
    "math, phys, rus = 0, 0, 0\n",
    "s = []\n",
    "h = 0\n",
    "with open ('dataset_3363_4.txt') as inf:\n",
    "    for line in inf:\n",
    "        line = line.strip().split(';')\n",
    "        s += [line]\n",
    "        h += 1\n",
    "#print s\n",
    "with open('out.txt', 'w') as out:\n",
    "    for k in range (h):\n",
    "        math += float(s[k][1])\n",
    "        phys += float(s[k][2])\n",
    "        rus += float(s[k][3])\n",
    "        out.write (str((float(s[k][1]) + float(s[k][2]) + float(s[k][3])) / 3) + '\\n')\n",
    "    #print math, phys, rus\n",
    "    out.write (str(math / h) + ' ' + str(phys / h) + ' ' + str(rus / h))"
   ]
  },
  {
   "cell_type": "code",
   "execution_count": 1,
   "metadata": {
    "collapsed": false
   },
   "outputs": [
    {
     "name": "stdout",
     "output_type": "stream",
     "text": [
      "1\n",
      "6.28318530718\n"
     ]
    }
   ],
   "source": [
    "import math as m\n",
    "r = float(raw_input())\n",
    "print (2*m.pi*r)"
   ]
  },
  {
   "cell_type": "code",
   "execution_count": 2,
   "metadata": {
    "collapsed": false
   },
   "outputs": [
    {
     "name": "stdout",
     "output_type": "stream",
     "text": [
      "-f\n",
      "/run/user/1000/jupyter/kernel-0ac2e7f6-744a-4b4f-9403-ed1993542afb.json\n"
     ]
    }
   ],
   "source": [
    "import sys\n",
    "for k in range (1, len(sys.argv)):\n",
    "    print sys.argv[k]"
   ]
  },
  {
   "cell_type": "code",
   "execution_count": null,
   "metadata": {
    "collapsed": true
   },
   "outputs": [],
   "source": [
    "#посчитать кол-во строк в файле по ссылке\n",
    "import requests as req\n",
    "l = ''\n",
    "r = req.get('https://stepic.org/media/attachments/course67/3.6.2/626.txt')\n",
    "l = r.text\n",
    "print l.count('\\n')"
   ]
  },
  {
   "cell_type": "code",
   "execution_count": null,
   "metadata": {
    "collapsed": false
   },
   "outputs": [],
   "source": [
    "#Имеется набор файлов, каждый из которых, кроме последнего, содержит имя следующего файла. \n",
    "#Первое слово в тексте последнего файла: \"We\".\n",
    "#Скачайте предложенный файл. В нём содержится ссылка на первый файл из этого набора. \n",
    "import requests as req\n",
    "l = ''\n",
    "r = req.get('https://stepic.org/media/attachments/course67/3.6.3/699991.txt')\n",
    "l = r.text\n",
    "while (l[:2] != 'We'):\n",
    "\turl = 'https://stepic.org/media/attachments/course67/3.6.3/' + l.strip()\n",
    "\tprint url\n",
    "\tq = req.get(url)\n",
    "\tl = q.text\n",
    "print l"
   ]
  },
  {
   "cell_type": "code",
   "execution_count": 34,
   "metadata": {
    "collapsed": false
   },
   "outputs": [
    {
     "name": "stdout",
     "output_type": "stream",
     "text": [
      "3\n",
      "cska;2;loko;3\n",
      "cska;1;zenit;1\n",
      "loko;2;zenit;1\n",
      "loko : 2 2 0 0 6\n",
      "cska : 2 0 1 1 1\n",
      "zenit : 2 0 1 1 1\n"
     ]
    }
   ],
   "source": [
    "#вывести таблицу чемпионата по результатам\n",
    "import numpy as np\n",
    "n = int(raw_input())\n",
    "game = []\n",
    "teams = {}\n",
    "final = {}\n",
    "point = []\n",
    "for i in range(n):\n",
    "    game = [j for j in raw_input().split(';')]\n",
    "    if game[0] not in teams:\n",
    "        teams[game[0]] = [0,0,0,0,0]\n",
    "    if game[2] not in teams:\n",
    "        teams[game[2]] = [0,0,0,0,0]\n",
    "    if (int(game[1]) > int(game[3])):\n",
    "        teams[game[0]] = list(np.array(teams[game[0]]) + np.array([1,1,0,0,3]))\n",
    "        teams[game[2]] = list(np.array(teams[game[2]]) + np.array([1,0,0,1,0]))\n",
    "    if (int(game[1]) == int(game[3])):\n",
    "        teams[game[0]] = list(np.array(teams[game[0]]) + np.array([1,0,1,0,1]))\n",
    "        teams[game[2]] = list(np.array(teams[game[2]]) + np.array([1,0,1,0,1]))\n",
    "    if (int(game[1]) < int(game[3])):\n",
    "        teams[game[0]] = list(np.array(teams[game[0]]) + np.array([1,0,0,1,0]))\n",
    "        teams[game[2]] = list(np.array(teams[game[2]]) + np.array([1,1,0,0,3]))\n",
    "    i = i + 1\n",
    "for key in teams:\n",
    "    if teams[key][4] not in point:\n",
    "        point.append(teams[key][4])\n",
    "point.sort()\n",
    "point.reverse()\n",
    "for i in point:\n",
    "    for key in teams:\n",
    "        if (teams[key][4] == i):\n",
    "            print key, ':', teams[key][0], teams[key][1], teams[key][2], teams[key][3], teams[key][4]"
   ]
  },
  {
   "cell_type": "code",
   "execution_count": 40,
   "metadata": {
    "collapsed": false
   },
   "outputs": [
    {
     "name": "stdout",
     "output_type": "stream",
     "text": [
      "abc\n",
      "cba\n",
      "abcabc\n",
      "ccc\n",
      "cbacba aaa\n"
     ]
    }
   ],
   "source": [
    "#зашифровать/расшифровать\n",
    "alph = raw_input()\n",
    "code = raw_input()\n",
    "x1 = raw_input()\n",
    "y1 = raw_input()\n",
    "x2 = ''\n",
    "y2 = ''\n",
    "d1 = {}\n",
    "d2 = {}\n",
    "for i in range(len(alph)):\n",
    "    d1[alph[i]] = code[i]\n",
    "    d2[code[i]] = alph[i]\n",
    "for i in x1:\n",
    "    if i in d1:\n",
    "        x2 += d1[i]\n",
    "for i in y1:\n",
    "    if i in d2:\n",
    "        y2 += d2[i]\n",
    "print x2 \n",
    "print y2"
   ]
  },
  {
   "cell_type": "code",
   "execution_count": 49,
   "metadata": {
    "collapsed": false
   },
   "outputs": [
    {
     "name": "stdout",
     "output_type": "stream",
     "text": [
      "3\n",
      "abc\n",
      "abd\n",
      "abe\n",
      "2\n",
      "abc dfh efh\n",
      "JFHEUFH\n",
      "efh dfh jfheufh\n"
     ]
    }
   ],
   "source": [
    "#вывод слов, которых нет в словаре\n",
    "n = int(raw_input())\n",
    "d1 = set()\n",
    "d2 = set()\n",
    "line = []\n",
    "for i in range(n):\n",
    "    d1.add(raw_input().lower())\n",
    "m = int(raw_input())\n",
    "for i in range(m):\n",
    "    line += raw_input().split()\n",
    "    for j in line:\n",
    "        d2.add(j.lower())\n",
    "for i in (d2-d1):\n",
    "    print i, "
   ]
  },
  {
   "cell_type": "code",
   "execution_count": null,
   "metadata": {
    "collapsed": false
   },
   "outputs": [],
   "source": [
    "#куда перейдет объект\n",
    "n = int(raw_input())\n",
    "comm = []\n",
    "x, y = 0, 0\n",
    "for i in range (n):\n",
    "    comm = [j for j in raw_input().split()]\n",
    "    if comm[0] == 'север':\n",
    "        y += int(comm[1])\n",
    "    elif comm[0] == 'юг':\n",
    "        y -= int(comm[1])\n",
    "    elif comm[0] == 'за':\n",
    "        y -= int(comm[1])\n",
    "    elif comm[0] == 'юг':\n",
    "        y -= int(comm[1])"
   ]
  },
  {
   "cell_type": "code",
   "execution_count": 23,
   "metadata": {
    "collapsed": false
   },
   "outputs": [
    {
     "name": "stdout",
     "output_type": "stream",
     "text": [
      "1 126.428571429\n",
      "2 130.384615385\n",
      "3 135.5\n",
      "4 140.8\n",
      "5 146.166666667\n",
      "6 154.230769231\n",
      "7 161.5\n",
      "8 166.333333333\n",
      "9 171.0\n",
      "10 170.333333333\n",
      "11 174.6\n"
     ]
    }
   ],
   "source": [
    "#вывести средний рост по классам\n",
    "height = {}\n",
    "s = []\n",
    "n = 0\n",
    "h = 0\n",
    "for i in range(1,12):\n",
    "    height[i] = '-'\n",
    "with open ('dataset_3380_5.txt') as inf:\n",
    "    for line in inf:\n",
    "        line = line.strip().split('\\t')\n",
    "        s += [line]\n",
    "for i in range(1,12):\n",
    "    for line in s:\n",
    "        #print line[1]\n",
    "        if int(line[0]) == i:\n",
    "            n += 1\n",
    "            h += float(line[2])\n",
    "    if n != 0:\n",
    "        height[i] = h / n\n",
    "    n = 0\n",
    "    h = 0\n",
    "for i in height:\n",
    "    print (str(i) + ' ' + str(height[i]))"
   ]
  },
  {
   "cell_type": "code",
   "execution_count": 6,
   "metadata": {
    "collapsed": false
   },
   "outputs": [
    {
     "name": "stdout",
     "output_type": "stream",
     "text": [
      "[[ 0  1  2]\n",
      " [ 3  4  5]\n",
      " [ 6  7  8]\n",
      " [ 9 10 11]]\n"
     ]
    }
   ],
   "source": [
    "from numpy import *\n",
    "b = arange(12).reshape(4,3)\n",
    "print b"
   ]
  },
  {
   "cell_type": "code",
   "execution_count": null,
   "metadata": {
    "collapsed": true
   },
   "outputs": [],
   "source": []
  }
 ],
 "metadata": {
  "kernelspec": {
   "display_name": "Python 2",
   "language": "python",
   "name": "python2"
  },
  "language_info": {
   "codemirror_mode": {
    "name": "ipython",
    "version": 2
   },
   "file_extension": ".py",
   "mimetype": "text/x-python",
   "name": "python",
   "nbconvert_exporter": "python",
   "pygments_lexer": "ipython2",
   "version": "2.7.11"
  }
 },
 "nbformat": 4,
 "nbformat_minor": 0
}
