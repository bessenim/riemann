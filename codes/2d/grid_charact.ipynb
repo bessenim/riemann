{
 "cells": [
  {
   "cell_type": "code",
   "execution_count": 11,
   "metadata": {},
   "outputs": [
    {
     "name": "stdout",
     "output_type": "stream",
     "text": [
      "error: 'matlabpool' undefined near line 1 column 1\n"
     ]
    }
   ],
   "source": [
    "matlabpool open 4"
   ]
  },
  {
   "cell_type": "code",
   "execution_count": 1,
   "metadata": {
    "collapsed": true
   },
   "outputs": [],
   "source": [
    "% Ётот файл получен из global_init2_1_3\n",
    "% јдаптирован дл€ решени€ системы уравнений динамической упругости\n",
    "% многомерной модификацией сеточно-характеристического метода, \n",
    "% использующей фундаментальное решение оператора задачи.\n",
    "\n",
    "% (c) —калько ёрий, ћ‘“» 2017\n",
    "\n",
    "%function grid_charact()\n",
    "%format long;\n",
    "%% Ѕлок дл€ описани€ начальных данных:\n",
    "%«асекаем врем€ работы программы:\n",
    "tic;\n",
    "\n",
    "sdim = 2;                                                                   %–азмерность по пространственным переменым\n",
    "\n",
    "%   «адаем параметры задачи\n",
    "la = 2; mu = 1; ro = 9;                                                     % параметры среды\n",
    "A1_m_n = ...\n",
    "[ 0         0   0       -(la+2*mu)  0   ;...\n",
    "  0         0   0       -la         0   ;...\n",
    "  0         0   0       0           -mu ;...\n",
    "  -1/ro     0   0       0           0   ;...\n",
    "  0         0   -1/ro   0           0   ];\n",
    "\n",
    "A2_m_n = ...\n",
    "[ 0 0       0       0   -la         ;...\n",
    "  0 0       0       0   -(la+2*mu)  ;...\n",
    "  0 0       0       -mu 0           ;...\n",
    "  0 0       -1/ro   0   0           ;...\n",
    "  0 -1/ro   0       0   0           ];"
   ]
  },
  {
   "cell_type": "code",
   "execution_count": 2,
   "metadata": {
    "collapsed": true
   },
   "outputs": [],
   "source": [
    "\n",
    "sn = size(A1_m_n,1);    sk1 = sn;   sk2 = sn;\n",
    "\n",
    "omega = 100;                                                                  %частота действующей силы\n",
    "% %¬ременные параметры:\n",
    "T = 4.1;\n",
    "Ninput= 21;\n",
    "\n",
    "%   «адаем область, в которой ищем решение\n",
    "d1min = -0.5; d1max = 0.5;                                                    %Ћева€ и права€ границы области\n",
    "d2min = -0.5; d2max = 0.5;                                                    %Ћева€ и права€ границы области\n",
    "\n",
    "%   «адаем пор€док интерпол€ционных полиномов по пространству\n",
    "K1max = 1;  \n",
    "K2max = 1;  \n",
    "\n",
    "%   «адаем сетку по пространственным переменным x_ii1 и x_ii2\n",
    "II1max = 2*50+1;  I1max = II1max-1; si1 = I1max;                            % оличество узлов сетки-всегда нечетное\n",
    "x_ii1 = d1min:((d1max-d1min)/si1):d1max;\n",
    "h_i1 = x_ii1(2:end)-x_ii1(1:(end-1));\n",
    "\n",
    "II2max = 2*50+1;  I2max = II2max-1; si2 = I2max;                            % оличество узлов сетки-всегда нечетное\n",
    "x_ii2 = d2min:((d2max-d2min)/si2):d2max;\n",
    "h_i2 = x_ii2(2:end)-x_ii2(1:(end-1));"
   ]
  },
  {
   "cell_type": "code",
   "execution_count": 3,
   "metadata": {
    "collapsed": true
   },
   "outputs": [],
   "source": [
    "%%   ¬спомагательные процедуры\n",
    "%   l1 l1 l1 l1 l1 l1 l1 l1 l1 l1 l1 l1 l1 l1 l1 l1 l1 l1 l1 l1 l1 l1 l1 \n",
    "sl1 = K1max + 1;\n",
    "ksi_l1 = zeros(1, sl1);\n",
    "if sl1==1\n",
    "   ksi_l1 = 0;\n",
    "else\n",
    "    ksi_l1 = -1:(2/(sl1-1)):1;\n",
    "%     ksi_l1(1, :) = -cos(pi/(2*(K1max+1))+pi*(0:1:K1max)/(K1max+1));\n",
    "end\n",
    "x_i1_l1 = zeros( si1, sl1 );\n",
    "for i1 = 1:si1\n",
    "    x_i1_l1(i1,:) = 0.5*(ksi_l1*(x_ii1(i1+1)-x_ii1(i1))+(x_ii1(i1+1)+x_ii1(i1)));\n",
    "end\n",
    "\n",
    "% ksi_l1(1, :) = -cos(pi/(2*(K1max+1))+pi*(0:1:K1max)/(K1max+1));\n",
    "ksi_l1_k1 = zeros(sl1,sl1);\n",
    "for k1 = 0:K1max\n",
    "    ksi_l1_k1(:, k1+1) = ksi_l1(1, :).^(K1max-k1);\n",
    "end\n",
    "\n",
    "pbase_l1_k1 = zeros(sl1, sl1);\n",
    "pbase_l1_k1 = (ksi_l1_k1\\eye(sl1))';                                          %   pbase_l1_k1 = PolyInterpChebNode_k1_l1\n",
    "\n",
    "%       —троим вспомагательные массивы\n",
    "sp1=si1*(sl1-1)+1;\n",
    "V_l1_i1_p1=zeros(sl1,si1,sp1);\n",
    "invV_p1_l1_i1=zeros(sp1,sl1,si1);\n",
    "for i1=1:si1\n",
    "    for l1=1:(sl1-1)\n",
    "        p1=(i1-1)*(sl1-1)+l1;\n",
    "        V_l1_i1_p1(l1,i1,p1)=1;\n",
    "    end\n",
    "    l1=sl1;\n",
    "    p1=(i1)*(sl1-1)+1;\n",
    "    V_l1_i1_p1(l1,i1,p1)=1;\n",
    "end\n",
    "\n",
    "for i1=1:si1\n",
    "    for l1=1:(sl1-1)\n",
    "        p1=(i1-1)*(sl1-1)+l1;\n",
    "        invV_p1_l1_i1(p1,l1,i1)=1;\n",
    "    end\n",
    "end\n",
    "invV_p1_l1_i1(sp1,sl1,si1)=1;\n",
    "\n",
    "V_i1_l1_p1 = permute(V_l1_i1_p1, [ 2 1 3 ]);\n",
    "invV_p1_i1_l1 = permute(invV_p1_l1_i1, [ 1 3 2 ]);\n",
    "clear V_l1_i1_p1 invV_p1_l1_i1;\n",
    "\n",
    "x_p1 = reshape(invV_p1_i1_l1, [ sp1 si1*sl1 ])*reshape(x_i1_l1, [ si1*sl1 1 ]);\n",
    "\n",
    "sl2 = K2max + 1;\n",
    "ksi_l2 = zeros(1, sl2);\n",
    "if sl2==1\n",
    "   ksi_l2 = 0;\n",
    "else\n",
    "    ksi_l2 = -1:(2/(sl2-1)):1;\n",
    "%     ksi_l2(1, :)=-cos(pi/(2*(K2max+1))+pi*(0:1:K2max)/(K2max+1));\n",
    "end\n",
    "x_i2_l2 = zeros( si2, sl2 );\n",
    "for i2 = 1:si2\n",
    "    x_i2_l2(i2,:) = 0.5*(ksi_l2*(x_ii2(i2+1)-x_ii2(i2))+(x_ii2(i2+1)+x_ii2(i2)));\n",
    "end\n",
    "\n",
    "% ksi_l2(1, :)=-cos(pi/(2*(K2max+1))+pi*(0:1:K2max)/(K2max+1));\n",
    "ksi_l2_k2 = zeros(sl2,sl2);\n",
    "for k2 = 0:K2max\n",
    "    ksi_l2_k2(:, k2+1) = ksi_l2(1, :).^(K2max-k2);\n",
    "end\n",
    "\n",
    "pbase_l2_k2 = zeros(sl2, sl2);\n",
    "pbase_l2_k2 = (ksi_l2_k2\\eye(sl2))';                                          %   pbase_l2_k2 = PolyInterpChebNode_k2_l2\n",
    "\n",
    "%       —троим вспомагательные массивы\n",
    "sp2=si2*(sl2-1)+1;\n",
    "V_l2_i2_p2=zeros(sl2,si2,sp2);\n",
    "invV_p2_l2_i2=zeros(sp2,sl2,si2);\n",
    "for i2=1:si2\n",
    "    for l2=1:(sl2-1)\n",
    "        p2=(i2-1)*(sl2-1)+l2;\n",
    "        V_l2_i2_p2(l2,i2,p2)=1;\n",
    "    end\n",
    "    l2=sl2;\n",
    "    p2=(i2)*(sl2-1)+1;\n",
    "    V_l2_i2_p2(l2,i2,p2)=1;\n",
    "end\n",
    "\n",
    "for i2=1:si2\n",
    "    for l2=1:(sl2-1)\n",
    "        p2=(i2-1)*(sl2-1)+l2;\n",
    "        invV_p2_l2_i2(p2,l2,i2)=1;\n",
    "    end\n",
    "end\n",
    "invV_p2_l2_i2(sp2,sl2,si2)=1;\n",
    "\n",
    "V_i2_l2_p2 = permute(V_l2_i2_p2, [ 2 1 3 ]);\n",
    "invV_p2_i2_l2 = permute(invV_p2_l2_i2, [ 1 3 2 ]);\n",
    "clear V_l2_i2_p2 invV_p2_l2_i2;\n",
    "\n",
    "x_p2 = reshape(invV_p2_i2_l2, [ sp2 si2*sl2 ])*reshape(x_i2_l2, [ si2*sl2 1 ]);\n",
    "\n",
    "x_i_p1_p2 = zeros(sdim,sp1,sp2);\n",
    "for p1 = 1:sp1\n",
    "    x_i_p1_p2(1,p1,:) = x_p1(p1);\n",
    "end\n",
    "for p2 = 1:sp2\n",
    "    x_i_p1_p2(2,:,p2) = x_p2(p2);\n",
    "end\n",
    "x_p1_p2_i = permute(x_i_p1_p2, [ 2 3 1 ]);"
   ]
  },
  {
   "cell_type": "code",
   "execution_count": 4,
   "metadata": {
    "collapsed": true
   },
   "outputs": [],
   "source": [
    "% ћассивы C_k1_m_n, C_k2_m_n\n",
    "[R1_m_n,LAMBD1_m_n] = eig(A1_m_n);\n",
    "lambd1 = diag(LAMBD1_m_n);  \n",
    "% indlambd1lt0 = find(lambd1<0);  %   lengthindlambd1lt0 = length(indlambd1lt0);\n",
    "indlambd1le0 = find(lambd1<=0); %   lengthindlambd1le0 = length(indlambd1le0);\n",
    "% indlambd1gt0 = find(lambd1>0);  %   lengthindlambd1gt0 = length(indlambd1gt0);\n",
    "indlambd1ge0 = find(lambd1>=0); %   lengthindlambd1ge0 = length(indlambd1ge0);\n",
    "\n",
    "L1_m_n = inv(R1_m_n);\n",
    "D_k1_m_n = zeros(sn,sn,sn);\n",
    "for k1=1:sn\n",
    "    D_k1_m_n(k1,k1,k1) = 1;\n",
    "end\n",
    "C_k1_m_n = zeros(sn,sn,sn);\n",
    "for k1=1:sn\n",
    "    C_k1_m_n(k1,:,:) = R1_m_n*reshape(D_k1_m_n(k1,:,:), [ sn sn ])*L1_m_n;\n",
    "end\n",
    "clear A1_m_n R1_m_n LAMBD1_m_n L1_m_n D_k1_m_n ;\n",
    "\n",
    "[R2_m_n,LAMBD2_m_n] = eig(A2_m_n);\n",
    "lambd2 = diag(LAMBD2_m_n);\n",
    "% indlambd2lt0 = find(lambd2<0);  \n",
    "indlambd2le0 = find(lambd2<=0); \n",
    "% indlambd2gt0 = find(lambd2>0);  \n",
    "indlambd2ge0 = find(lambd2>=0); \n",
    "\n",
    "L2_m_n = inv(R2_m_n);\n",
    "L2GE0_m_n = L2_m_n(find(lambd2>=0),:);\n",
    "D_k2_m_n = zeros(sn,sn,sn);\n",
    "for k2=1:sn\n",
    "    D_k2_m_n(k2,k2,k2) = 1;\n",
    "end\n",
    "C_k2_m_n = zeros(sn,sn,sn);\n",
    "for k2=1:sn\n",
    "    C_k2_m_n(k2,:,:) = R2_m_n*reshape(D_k2_m_n(k2,:,:), [ sn sn ])*L2_m_n;\n",
    "end\n",
    "clear A2_m_n R2_m_n LAMBD2_m_n L2_m_n D_k2_m_n ;\n",
    "\n",
    "deltat = min(min(h_i1)/max(abs(lambd1)), min(h_i2)/max(abs(lambd2)));\n",
    "Ntau = fix(T/deltat);\n",
    "deltaNinput = fix((Ntau+1)/(Ninput-1));\n",
    "%   it = 1:1:(deltaNinput*Ninput);\n",
    "\n",
    "C_k1_k2_m_n = zeros(sn,sn,sn,sn);\n",
    "for k1=1:sn\n",
    "    for k2=1:sn\n",
    "        C_k1_k2_m_n(k1,k2,:,:) = 0.5* ...\n",
    "            (  reshape(C_k1_m_n(k1,:,:), [ sn sn ])*reshape(C_k2_m_n(k2,:,:), [ sn sn ]) ...\n",
    "             + reshape(C_k2_m_n(k2,:,:), [ sn sn ])*reshape(C_k1_m_n(k1,:,:), [ sn sn ]));\n",
    "    end\n",
    "end\n",
    "clear C_k1_m_n C_k2_m_n;\n",
    "C_k2k1n_m = reshape(permute(C_k1_k2_m_n, [ 2 1 4 3 ]), [ sk2*sk1*sn sn ]);\n",
    "\n",
    "[numlambd2GE0,ind] = size(L2GE0_m_n);\n",
    "L2GE0C_k1_k2_m_n = zeros(sn,sn,numlambd2GE0,sn);\n",
    "for k1 = 1:sn\n",
    "    for k2 = 1:sn\n",
    "        L2GE0C_k1_k2_m_n(k1,k2,:,:) = reshape(...\n",
    "            L2GE0_m_n*reshape(C_k1_k2_m_n(k1,k2,:,:), [ sn sn ]), [ 1 1 numlambd2GE0 sn ]);\n",
    "    end\n",
    "end"
   ]
  },
  {
   "cell_type": "code",
   "execution_count": 5,
   "metadata": {},
   "outputs": [
    {
     "name": "stdout",
     "output_type": "stream",
     "text": [
      "lambd1 =\n",
      "\n",
      "   0.00000\n",
      "   0.66667\n",
      "  -0.66667\n",
      "   0.33333\n",
      "  -0.33333\n",
      "\n"
     ]
    }
   ],
   "source": [
    "lambd1"
   ]
  },
  {
   "cell_type": "code",
   "execution_count": 6,
   "metadata": {
    "collapsed": true
   },
   "outputs": [],
   "source": [
    "H_p1w_k1_p1 = zeros(sp1,sn,sp1);\n",
    "for p1w = 1\n",
    "    for k1 = indlambd1le0\n",
    "H_p1w_k1_p1(p1w,k1,p1w)   = polyval(pbase_l1_k1(1,:), (-1-(2/(h_i1(i1)))*lambd1(k1)*deltat));\n",
    "H_p1w_k1_p1(p1w,k1,p1w+1) = polyval(pbase_l1_k1(2,:), (-1-(2/(h_i1(i1)))*lambd1(k1)*deltat));\n",
    "    end\n",
    "end\n",
    "\n",
    "for p1w = 2:(sp1-1)\n",
    "    for k1 = indlambd1le0\n",
    "H_p1w_k1_p1(p1w,k1,p1w)   = polyval(pbase_l1_k1(1,:), (-1-(2/(h_i1(i1)))*lambd1(k1)*deltat));\n",
    "H_p1w_k1_p1(p1w,k1,p1w+1) = polyval(pbase_l1_k1(2,:), (-1-(2/(h_i1(i1)))*lambd1(k1)*deltat));\n",
    "    end\n",
    "    for k1 = indlambd1ge0\n",
    "H_p1w_k1_p1(p1w,k1,p1w)   = polyval(pbase_l1_k1(2,:), (1-(2/(h_i1(i1)))*lambd1(k1)*deltat));\n",
    "H_p1w_k1_p1(p1w,k1,p1w-1) = polyval(pbase_l1_k1(1,:), (1-(2/(h_i1(i1)))*lambd1(k1)*deltat));\n",
    "    end\n",
    "end\n",
    "\n",
    "for p1w = sp1\n",
    "    for k1 = indlambd1ge0\n",
    "H_p1w_k1_p1(p1w,k1,p1w)   = polyval(pbase_l1_k1(2,:), (1-(2/(h_i1(i1)))*lambd1(k1)*deltat));\n",
    "H_p1w_k1_p1(p1w,k1,p1w-1) = polyval(pbase_l1_k1(1,:), (1-(2/(h_i1(i1)))*lambd1(k1)*deltat));\n",
    "    end\n",
    "end"
   ]
  },
  {
   "cell_type": "code",
   "execution_count": 7,
   "metadata": {
    "collapsed": true
   },
   "outputs": [],
   "source": [
    "H_p2w_k2_p2 = zeros(sp2,sn,sp2);\n",
    "for p2w = 1\n",
    "    for k2 = indlambd2le0\n",
    "H_p2w_k2_p2(p2w,k2,p2w)   = polyval(pbase_l2_k2(1,:), (-1-(2/(h_i2(i2)))*lambd2(k2)*deltat));\n",
    "H_p2w_k2_p2(p2w,k2,p2w+1) = polyval(pbase_l2_k2(2,:), (-1-(2/(h_i2(i2)))*lambd2(k2)*deltat));\n",
    "    end\n",
    "end\n",
    "\n",
    "for p2w = 2:(sp2-1)\n",
    "    for k2 = indlambd2le0\n",
    "H_p2w_k2_p2(p2w,k2,p2w)   = polyval(pbase_l2_k2(1,:), (-1-(2/(h_i2(i2)))*lambd2(k2)*deltat));\n",
    "H_p2w_k2_p2(p2w,k2,p2w+1) = polyval(pbase_l2_k2(2,:), (-1-(2/(h_i2(i2)))*lambd2(k2)*deltat));\n",
    "    end\n",
    "    for k2 = indlambd2ge0\n",
    "H_p2w_k2_p2(p2w,k2,p2w)   = polyval(pbase_l2_k2(2,:), (1-(2/(h_i2(i2)))*lambd2(k2)*deltat));\n",
    "H_p2w_k2_p2(p2w,k2,p2w-1) = polyval(pbase_l2_k2(1,:), (1-(2/(h_i2(i2)))*lambd2(k2)*deltat));\n",
    "    end\n",
    "end\n",
    "\n",
    "for p2w = sp2\n",
    "    for k2 = indlambd2ge0\n",
    "H_p2w_k2_p2(p2w,k2,p2w)   = polyval(pbase_l2_k2(2,:), (1-(2/(h_i2(i2)))*lambd2(k2)*deltat));\n",
    "H_p2w_k2_p2(p2w,k2,p2w-1) = polyval(pbase_l2_k2(1,:), (1-(2/(h_i2(i2)))*lambd2(k2)*deltat));\n",
    "    end\n",
    "end"
   ]
  },
  {
   "cell_type": "code",
   "execution_count": 8,
   "metadata": {
    "collapsed": true
   },
   "outputs": [],
   "source": [
    "\n",
    "A1_m_n = zeros(2,sn);\n",
    "A1_m_n(1,3) = 1;\n",
    "A1_m_n(2,2) = 1;\n",
    "\n",
    "A_m_n = cat(1,L2GE0_m_n,A1_m_n);\n",
    "invA_m_n = inv(A_m_n);\n",
    "\n",
    "%%  Ќачальные данные u0_p1_p2_n\n",
    "u0_p1_p2_n = zeros( sp1,sp2,sn );\n",
    "amplitudeu0 = 0;\n",
    "xstar_i = [0 0];\n",
    "diam = 0.1;\n",
    "centerline = 0.3;\n",
    "radius_p1_p2_i = zeros(sp1,sp2,sdim);\n",
    "normradius_p1_p2 = zeros(sp1,sp2);\n",
    "for p1 = 1:sp1\n",
    "    for p2 = 1:sp2\n",
    "        radius_p1_p2_i(p1,p2,:) = x_p1_p2_i(p1,p2,:) - reshape(xstar_i, [ 1 1 sdim ]);\n",
    "        normradius_p1_p2(p1,p2) = norm(reshape(radius_p1_p2_i(p1,p2,:), [ sdim 1 ]),2);\n",
    "    end\n",
    "end\n",
    "\n",
    "[indp1,indp2] = find(abs(normradius_p1_p2-centerline) <= diam);\n",
    "lengthind = length(indp1);\n",
    "for point = 1:lengthind\n",
    "    u0_p1_p2_n(indp1(point),indp2(point),4:5) = amplitudeu0*...\n",
    "       (radius_p1_p2_i(indp1(point),indp2(point),:)/normradius_p1_p2(indp1(point),indp2(point)))...\n",
    "       *(1 + cos((pi / diam)*(normradius_p1_p2(indp1(point),indp2(point))-centerline)));\n",
    "end"
   ]
  },
  {
   "cell_type": "code",
   "execution_count": 9,
   "metadata": {
    "collapsed": true
   },
   "outputs": [],
   "source": [
    "\n",
    "%%   ƒелаем шаги по времени\n",
    "sjt = Ninput;\n",
    "T_jt = 0:deltat*deltaNinput:(sjt-1)*deltat*deltaNinput;\n",
    "% [per, sjt] = size(T_jt);   clear per;\n",
    "\n",
    "u_p1_p2_n_jt = zeros(sp1,sp2,sn,Ninput);\n",
    "uprev_p1_p2_n = zeros(sp1,sp2,sn);\n",
    "unext_p1_p2_n = zeros(sp1,sp2,sn);\n",
    "u_p1_p2_n_jt(:,:,:,1) = u0_p1_p2_n;\n",
    "uprev_p1_p2_n(:,:,:) = u_p1_p2_n_jt(:,:,:,1);\n",
    "indk1 = 1:sk1;  indk2 = 1:sk2;\n",
    "amplitude_p1w_sp2 = zeros(sp1,1);   \n",
    "amplitude_p1w_sp2((sp1+1)/2-1, 1) = 10;    \n",
    "    amplitude_p1w_sp2((sp1+1)/2, 1) = 10;\n",
    "        amplitude_p1w_sp2((sp1+1)/2+1, 1) = 10;\n",
    "\n",
    "ind_p1w_p1 = zeros(sp1,3);  lengthind_p1w = zeros(sp1,1);\n",
    "p1w = 1;    ind_p1w_p1(p1w,1) = p1w;    ind_p1w_p1(p1w,2) = p1w+1;  lengthind_p1w(p1w) = 2;\n",
    "for p1w = 2:(sp1-1)\n",
    "    ind_p1w_p1(p1w,1) = p1w-1;  ind_p1w_p1(p1w,2) = p1w;  ind_p1w_p1(p1w,3) = p1w+1;  lengthind_p1w(p1w) = 3;\n",
    "end\n",
    "p1w = sp1;    ind_p1w_p1(p1w,1) = p1w-1;    ind_p1w_p1(p1w,2) = p1w;  lengthind_p1w(p1w) = 2;\n",
    "\n",
    "ind_p2w_p2 = zeros(sp2,3);  lengthind_p2w = zeros(sp2,1);\n",
    "p2w = 1;    ind_p2w_p2(p2w,1) = p2w;    ind_p2w_p2(p2w,2) = p2w+1;  lengthind_p2w(p2w) = 2;\n",
    "for p2w = 2:(sp2-1)\n",
    "    ind_p2w_p2(p2w,1) = p2w-1;  ind_p2w_p2(p2w,2) = p2w;  ind_p2w_p2(p2w,3) = p2w+1;  lengthind_p2w(p2w) = 3;\n",
    "end\n",
    "p2w = sp2;    ind_p2w_p2(p2w,1) = p2w-1;    ind_p2w_p2(p2w,2) = p2w;  lengthind_p2w(p2w) = 2;\n",
    "\n",
    "\n",
    "C_k2_k1_n_m = permute(C_k1_k2_m_n, [ 2 1 4 3 ]);\n",
    "C_k2k1n_m = reshape(C_k2_k1_n_m, [ sn*sn*sn sn ]);"
   ]
  },
  {
   "cell_type": "code",
   "execution_count": 10,
   "metadata": {},
   "outputs": [
    {
     "name": "stdout",
     "output_type": "stream",
     "text": [
      "Elapsed time is 507.855 seconds.\n"
     ]
    }
   ],
   "source": [
    "for jt=2:sjt\n",
    "    for point = 2:deltaNinput+1\n",
    "        for p1w = 1:sp1\n",
    "            W_k1_p2_n = reshape(reshape(H_p1w_k1_p1(p1w,:,ind_p1w_p1(p1w,1:lengthind_p1w(p1w))), [ sk1 lengthind_p1w(p1w) ])...\n",
    "                   *reshape(uprev_p1_p2_n(ind_p1w_p1(p1w,1:lengthind_p1w(p1w)),:,:), [ lengthind_p1w(p1w) sp2*sn ]), [ sk1 sp2 sn ]);\n",
    "            W_p2_k1_n = permute(W_k1_p2_n, [ 2 1 3 ]);\n",
    "             for p2w = 1:(sp2-1)\n",
    "                W_k2k1n = reshape(reshape(H_p2w_k2_p2(p2w,:,ind_p2w_p2(p2w,1:lengthind_p2w(p2w))), [ sk2 lengthind_p2w(p2w) ])...\n",
    "                   *reshape(W_p2_k1_n(ind_p2w_p2(p2w,1:lengthind_p2w(p2w)),:,:), [ lengthind_p2w(p2w) sk1*sn ]), [ 1 sk2*sk1*sn ]);\n",
    "                unext_p1_p2_n(p1w,p2w,:) = reshape(W_k2k1n*C_k2k1n_m, [ 1 1 sn ]);               \n",
    "%                 unext_p1_p2_n(p1w,p2w,:)\n",
    "            end\n",
    "            for p2w = sp2\n",
    "                W_k2_k1_n = reshape(reshape(H_p2w_k2_p2(p2w,:,ind_p2w_p2(p2w,1:lengthind_p2w(p2w))), [ sk2 lengthind_p2w(p2w) ])...\n",
    "                   *reshape(W_p2_k1_n(ind_p2w_p2(p2w,1:lengthind_p2w(p2w)),:,:), [ lengthind_p2w(p2w) sk1*sn ]), [ sk2 sk1 sn ]);\n",
    "                W_m = zeros(sn,1);\n",
    "                for k1 = indk1\n",
    "                    for k2 = indk2(lambd2>=0)\n",
    "                        W_m(:,1) = W_m(:,1) + ...\n",
    "                            reshape(C_k1_k2_m_n(k1,k2,:,:), [ sn sn ])...\n",
    "                           *reshape(W_k2_k1_n(k2,k1,:), [ sn 1 ]);\n",
    "                    end\n",
    "                end\n",
    "                r1_m = L2GE0_m_n*W_m;\n",
    "                t = (jt-1)*deltat*deltaNinput + point*deltat;\n",
    "                r2_m(1,1) = 0; r2_m(2,1) = -amplitude_p1w_sp2(p1w,1)*sin(omega*t);\n",
    "                r_m = cat(1,r1_m,r2_m); \n",
    "                unext_p1_p2_n(p1w,p2w,:) = invA_m_n*r_m;\n",
    "            end\n",
    "        end\n",
    "        uprev_p1_p2_n = unext_p1_p2_n;\n",
    "    end\n",
    "    u_p1_p2_n_jt(:,:,:,jt) = unext_p1_p2_n(:,:,:);\n",
    "end\n",
    "\n",
    "K_p1_p2_jt = zeros(sp1,sp2,sjt);\n",
    "for p1 = 1:sp1\n",
    "    for p2 = 1:sp2\n",
    "        for jt = 1:sjt\n",
    "            K_p1_p2_jt(p1,p2,jt) = sqrt(u_p1_p2_n_jt(p1,p2,4,jt)^2 + u_p1_p2_n_jt(p1,p2,5,jt)^2);\n",
    "        end\n",
    "    end\n",
    "end\n",
    "\n",
    "toc;"
   ]
  },
  {
   "cell_type": "code",
   "execution_count": 13,
   "metadata": {
    "collapsed": true
   },
   "outputs": [],
   "source": [
    "x1min = min(x_p1);                       x1max = max(x_p1);\n",
    "x2min = min(x_p2);                       x2max = max(x_p2);\n",
    "\n",
    "Kmin = min(min(min(K_p1_p2_jt, [], 1), [], 2), [], 3);   Kmax = max(max(max(K_p1_p2_jt, [], 1), [], 2), [], 3);"
   ]
  },
  {
   "cell_type": "code",
   "execution_count": 16,
   "metadata": {},
   "outputs": [],
   "source": [
    "function [ ret ] = getframe (h)\n",
    "\n",
    "  print (h, \"tmp.fig\", \"-dppm\");\n",
    "  ret = im2double (imread (\"tmp.fig\"));\n",
    "  ## Truncate to even size to accomodate addframe()\n",
    "  if (mod (size (ret, 1), 2) > 0); ret = ret(2:end, :, :); endif\n",
    "  if (mod (size (ret, 2), 2) > 0); ret = ret(:, 2:end, :); endif\n",
    "\n",
    "endfunction"
   ]
  },
  {
   "cell_type": "code",
   "execution_count": 37,
   "metadata": {},
   "outputs": [
    {
     "name": "stdout",
     "output_type": "stream",
     "text": [
      "error: 'h' undefined near line 3 column 10\n",
      "error: called from\n",
      "    getframe at line 3 column 3\n"
     ]
    },
    {
     "name": "stderr",
     "output_type": "stream",
     "text": [
      "\u001b[0;31munclosed token: line 51120, column 0\n",
      "\u001b[0m"
     ]
    }
   ],
   "source": [
    "\n",
    "%%  √рафический вывод результатов\n",
    "x1min = min(x_p1);                       x1max = max(x_p1);\n",
    "x2min = min(x_p2);                       x2max = max(x_p2);\n",
    "\n",
    "Kmin = min(min(min(K_p1_p2_jt, [], 1), [], 2), [], 3);   Kmax = max(max(max(K_p1_p2_jt, [], 1), [], 2), [], 3);\n",
    "\n",
    "% [X1,X2] = meshgrid(x_p1,x_p2);\n",
    "\n",
    "[per, sit] = size(T_jt);    clear per;\n",
    "\n",
    "        for it=1:1:sit\n",
    "            surf(x_p2,x_p1,reshape(K_p1_p2_jt(:,:,it), [ sp1 sp2 ]));\n",
    "            axis([ x2min x2max x1min x1max Kmin Kmax]);\n",
    "            #pause(1);\n",
    "            F(it) = getframe; %#ok<AGROW>\n",
    "        end\n",
    "        \n",
    "        #movie(F, 3, 5);"
   ]
  },
  {
   "cell_type": "code",
   "execution_count": 31,
   "metadata": {},
   "outputs": [
    {
     "name": "stderr",
     "output_type": "stream",
     "text": [
      "\u001b[0;31mno element found: line 1, column 0\n",
      "\u001b[0m"
     ]
    }
   ],
   "source": [
    "axis([ x2min x2max x1min x1max Kmin Kmax]);"
   ]
  },
  {
   "cell_type": "code",
   "execution_count": 35,
   "metadata": {},
   "outputs": [
    {
     "name": "stdout",
     "output_type": "stream",
     "text": [
      "s = -1.7769\n"
     ]
    },
    {
     "name": "stderr",
     "output_type": "stream",
     "text": [
      "\u001b[0;31mno element found: line 33365, column 69\n",
      "\u001b[0m"
     ]
    }
   ],
   "source": [
    "s = surf(x_p2,x_p1,reshape(K_p1_p2_jt(:,:,10), [ sp1 sp2 ]))"
   ]
  },
  {
   "cell_type": "code",
   "execution_count": 34,
   "metadata": {},
   "outputs": [
    {
     "name": "stdout",
     "output_type": "stream",
     "text": [
      "ans =\n",
      "\n",
      "   101   101\n",
      "\n"
     ]
    }
   ],
   "source": [
    "size(K_p1_p2_jt(:,:,10))"
   ]
  },
  {
   "cell_type": "code",
   "execution_count": 36,
   "metadata": {},
   "outputs": [
    {
     "name": "stderr",
     "output_type": "stream",
     "text": [
      "\u001b[0;31munclosed token: line 48039, column 2\n",
      "\u001b[0m"
     ]
    }
   ],
   "source": [
    " clf;\n",
    " colormap (\"default\");\n",
    " [X,Y,Z] = sombrero ();\n",
    " [~,Fy] = gradient (Z);\n",
    " surf (X, Y, Z, Fy);\n",
    " shading interp;\n",
    " title ({\"surf() plot of peaks() function\"; ...\n",
    "         \"facecolor is interpolated, color determined by Y-gradient of Z\"});"
   ]
  },
  {
   "cell_type": "code",
   "execution_count": null,
   "metadata": {
    "collapsed": true
   },
   "outputs": [],
   "source": []
  }
 ],
 "metadata": {
  "anaconda-cloud": {},
  "kernelspec": {
   "display_name": "Octave",
   "language": "octave",
   "name": "octave"
  },
  "language_info": {
   "file_extension": ".m",
   "help_links": [
    {
     "text": "GNU Octave",
     "url": "https://www.gnu.org/software/octave/support.html"
    },
    {
     "text": "Octave Kernel",
     "url": "https://github.com/Calysto/octave_kernel"
    },
    {
     "text": "MetaKernel Magics",
     "url": "https://github.com/calysto/metakernel/blob/master/metakernel/magics/README.md"
    }
   ],
   "mimetype": "text/x-octave",
   "name": "octave",
   "version": "4.2.1"
  }
 },
 "nbformat": 4,
 "nbformat_minor": 2
}
