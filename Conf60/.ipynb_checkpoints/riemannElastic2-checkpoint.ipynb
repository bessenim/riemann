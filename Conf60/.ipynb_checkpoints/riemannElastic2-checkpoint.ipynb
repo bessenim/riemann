{
 "cells": [
  {
   "cell_type": "markdown",
   "metadata": {},
   "source": [
    "## Решение системы уравнений упругой динамики (одномерный случай)\n",
    "#### с отражающими граничными условиями"
   ]
  },
  {
   "cell_type": "code",
   "execution_count": 1,
   "metadata": {
    "collapsed": true
   },
   "outputs": [],
   "source": [
    "import numpy as np\n",
    "import math as m\n",
    "from sympy import *\n",
    "#from sympy.abc import x\n",
    "import pylab as py\n",
    "from JSAnimation import IPython_display\n",
    "import matplotlib.animation as animation\n",
    "import matplotlib.pyplot as plt\n",
    "from numpy import linalg as LA\n",
    "from scipy.interpolate import interp1d\n",
    "%matplotlib inline"
   ]
  },
  {
   "cell_type": "code",
   "execution_count": 2,
   "metadata": {},
   "outputs": [
    {
     "name": "stdout",
     "output_type": "stream",
     "text": [
      "Enter number of segments\n",
      "100\n",
      "Enter ends of segment\n",
      "-1 1\n"
     ]
    }
   ],
   "source": [
    "print 'Enter number of segments'\n",
    "n = int(raw_input()) #кол-во отрезков\n",
    "print 'Enter ends of segment'\n",
    "a , b = raw_input().split() #отрезок\n",
    "a = float(a)\n",
    "b = float(b)\n",
    "h = (b - a) / n"
   ]
  },
  {
   "cell_type": "markdown",
   "metadata": {},
   "source": [
    "$$\n",
    "\\frac{\\partial \\vec U}{\\partial t} + A \\frac{\\partial \\vec U}{\\partial x} = 0\n",
    "$$\n",
    "\n",
    "Enter A"
   ]
  },
  {
   "cell_type": "code",
   "execution_count": 3,
   "metadata": {
    "collapsed": true
   },
   "outputs": [],
   "source": [
    "l = 1\n",
    "m = 1\n",
    "rho = 1"
   ]
  },
  {
   "cell_type": "code",
   "execution_count": 4,
   "metadata": {},
   "outputs": [],
   "source": [
    "A = np.array([[0,0,0,-(l+2*m),0],[0,0,0,-l,0],[0,0,0,0,-m],[-1./rho,0,0,0,0],[0,0,-1./rho,0,0]])\n",
    "As = [0 for i in range(n)]\n",
    "for i in range(n):\n",
    "    As[i] = A"
   ]
  },
  {
   "cell_type": "code",
   "execution_count": 5,
   "metadata": {},
   "outputs": [
    {
     "data": {
      "text/plain": [
       "(100, 5, 5)"
      ]
     },
     "execution_count": 5,
     "metadata": {},
     "output_type": "execute_result"
    }
   ],
   "source": [
    "np.shape(As)"
   ]
  },
  {
   "cell_type": "code",
   "execution_count": 6,
   "metadata": {
    "collapsed": true
   },
   "outputs": [],
   "source": [
    "lams = [0 for i in range(n)]\n",
    "OMEGA_s = [0 for i in range(n)]\n",
    "OMEGAs = [0 for i in range(n)]"
   ]
  },
  {
   "cell_type": "code",
   "execution_count": 7,
   "metadata": {},
   "outputs": [],
   "source": [
    "for i in range(n):\n",
    "    lam, OMEGA_ = LA.eig(As[i])\n",
    "    lam = np.array([lam[2], lam[4], lam[0], lam[3], lam[1]])\n",
    "    OMEGA_ = np.array([OMEGA_[:, 2], OMEGA_[:, 4], OMEGA_[:, 0], OMEGA_[:, 3], OMEGA_[:, 1]])\n",
    "    OMEGA_ = np.transpose(OMEGA_)\n",
    "    OMEGA = LA.inv(OMEGA_)\n",
    "    lams[i] = lam\n",
    "    OMEGA_s[i] = OMEGA_\n",
    "    OMEGAs[i] = OMEGA"
   ]
  },
  {
   "cell_type": "code",
   "execution_count": 8,
   "metadata": {},
   "outputs": [
    {
     "name": "stdout",
     "output_type": "stream",
     "text": [
      "[-1.73205081 -1.          0.          1.          1.73205081]\n"
     ]
    }
   ],
   "source": [
    "print lams[1]"
   ]
  },
  {
   "cell_type": "code",
   "execution_count": 9,
   "metadata": {},
   "outputs": [],
   "source": [
    "LAMBDAs = [0 for i in range(n)]\n",
    "LAMBDA = np.zeros([5,5])\n",
    "for j in range(n):\n",
    "    for i in range(5):\n",
    "        LAMBDA[i,i] = lams[j][i]\n",
    "    LAMBDAs[j] = LAMBDA"
   ]
  },
  {
   "cell_type": "code",
   "execution_count": 10,
   "metadata": {},
   "outputs": [
    {
     "data": {
      "text/plain": [
       "(100, 5, 5)"
      ]
     },
     "execution_count": 10,
     "metadata": {},
     "output_type": "execute_result"
    }
   ],
   "source": [
    "np.shape(LAMBDAs)"
   ]
  },
  {
   "cell_type": "code",
   "execution_count": 11,
   "metadata": {},
   "outputs": [
    {
     "name": "stdout",
     "output_type": "stream",
     "text": [
      "[[ -1.54916829e-16   0.00000000e+00   0.00000000e+00  -3.00000000e+00\n",
      "    0.00000000e+00]\n",
      " [  6.68533256e-17   0.00000000e+00   0.00000000e+00  -1.00000000e+00\n",
      "    0.00000000e+00]\n",
      " [  0.00000000e+00   0.00000000e+00   0.00000000e+00   0.00000000e+00\n",
      "   -1.00000000e+00]\n",
      " [ -1.00000000e+00   0.00000000e+00   0.00000000e+00  -6.85479099e-17\n",
      "    0.00000000e+00]\n",
      " [  0.00000000e+00   0.00000000e+00  -1.00000000e+00   0.00000000e+00\n",
      "    0.00000000e+00]]\n"
     ]
    }
   ],
   "source": [
    "TEMP = np.matmul(OMEGA_s[1], LAMBDAs[1])\n",
    "print np.matmul(TEMP, OMEGAs[1])"
   ]
  },
  {
   "cell_type": "code",
   "execution_count": 12,
   "metadata": {},
   "outputs": [],
   "source": [
    "nul = [0,0,0,0,0]"
   ]
  },
  {
   "cell_type": "code",
   "execution_count": 13,
   "metadata": {},
   "outputs": [
    {
     "name": "stdout",
     "output_type": "stream",
     "text": [
      "Enter X for tau\n",
      "0.3\n"
     ]
    }
   ],
   "source": [
    "# tau = h / c *(X), такое что c*tau/h < 1\n",
    "print 'Enter X for tau'\n",
    "X = float(raw_input())"
   ]
  },
  {
   "cell_type": "code",
   "execution_count": 14,
   "metadata": {},
   "outputs": [],
   "source": [
    "def f(x):\n",
    "    if (a + 0.25*(b-a) <= x <= a + 0.5*(b-a)):\n",
    "        return (x - (a + 0.25*(b-a))) / (0.25*(b-a))\n",
    "    elif (a + 0.5*(b-a) <= x <= a + 0.75*(b-a)):\n",
    "        return (x - (a + 0.75*(b-a))) / (-0.25*(b-a))\n",
    "    else:\n",
    "        return 0"
   ]
  },
  {
   "cell_type": "code",
   "execution_count": 15,
   "metadata": {
    "collapsed": true
   },
   "outputs": [],
   "source": [
    "def fp(x):\n",
    "    if x >= 0:\n",
    "        return f(x)\n",
    "    else:\n",
    "        return 0"
   ]
  },
  {
   "cell_type": "code",
   "execution_count": 16,
   "metadata": {},
   "outputs": [],
   "source": [
    "U = np.zeros([10,n+1]) # решение\n",
    "x = np.linspace(a, b, n+1) #сетка"
   ]
  },
  {
   "cell_type": "code",
   "execution_count": 17,
   "metadata": {},
   "outputs": [],
   "source": [
    "#for j in range(5):\n",
    "for i in range(n+1):\n",
    "    U[3][i] = f(x[i])\n",
    "    U[8][i] = f(x[i])"
   ]
  },
  {
   "cell_type": "code",
   "execution_count": 18,
   "metadata": {},
   "outputs": [
    {
     "name": "stdout",
     "output_type": "stream",
     "text": [
      "1.0\n"
     ]
    },
    {
     "data": {
      "image/png": "[encoded data removed]",
      "text/plain": [
       "<matplotlib.figure.Figure at 0x10eb02a10>"
      ]
     },
     "metadata": {},
     "output_type": "display_data"
    }
   ],
   "source": [
    "test = interp1d([-1, 0, 1], [1 ,0, 1], kind='quadratic')\n",
    "print test(-1)\n",
    "testx = np.linspace(-1, 1, 100)\n",
    "testnew = test(testx)\n",
    "plt.plot([-1, 0, 1], [1 ,0, 1], 'o', testx, testnew, '-')\n",
    "plt.show()"
   ]
  },
  {
   "cell_type": "code",
   "execution_count": 19,
   "metadata": {},
   "outputs": [
    {
     "data": {
      "text/plain": [
       "array(0.73)"
      ]
     },
     "execution_count": 19,
     "metadata": {},
     "output_type": "execute_result"
    }
   ],
   "source": [
    "right = interp1d(x, U[3])\n",
    "right(0.135)"
   ]
  },
  {
   "cell_type": "code",
   "execution_count": 20,
   "metadata": {},
   "outputs": [
    {
     "name": "stdout",
     "output_type": "stream",
     "text": [
      "[ 0.    0.    0.    0.    0.    0.    0.    0.    0.    0.    0.    0.    0.\n",
      "  0.    0.    0.    0.    0.    0.    0.    0.    0.    0.    0.    0.    0.\n",
      "  0.04  0.08  0.12  0.16  0.2   0.24  0.28  0.32  0.36  0.4   0.44  0.48\n",
      "  0.52  0.56  0.6   0.64  0.68  0.72  0.76  0.8   0.84  0.88  0.92  0.96\n",
      "  1.    0.96  0.92  0.88  0.84  0.8   0.76  0.72  0.68  0.64  0.6   0.56\n",
      "  0.52  0.48  0.44  0.4   0.36  0.32  0.28  0.24  0.2   0.16  0.12  0.08\n",
      "  0.04 -0.    0.    0.    0.    0.    0.    0.    0.    0.    0.    0.    0.\n",
      "  0.    0.    0.    0.    0.    0.    0.    0.    0.    0.    0.    0.    0.\n",
      "  0.  ]\n"
     ]
    }
   ],
   "source": [
    "print U[3]"
   ]
  },
  {
   "cell_type": "code",
   "execution_count": 21,
   "metadata": {},
   "outputs": [
    {
     "data": {
      "image/png": "[encoded data removed]",
      "text/plain": [
       "<matplotlib.figure.Figure at 0x181c28e4d0>"
      ]
     },
     "metadata": {},
     "output_type": "display_data"
    }
   ],
   "source": [
    "py.figure()\n",
    "py.xlabel('x')\n",
    "py.ylabel('U')\n",
    "#py.ylim(0,1.1)\n",
    "py.plot(x, U[3], 'r')\n",
    "py.show()"
   ]
  },
  {
   "cell_type": "code",
   "execution_count": 22,
   "metadata": {},
   "outputs": [
    {
     "name": "stdout",
     "output_type": "stream",
     "text": [
      "0.00346410161514\n"
     ]
    }
   ],
   "source": [
    "lmax = max([max(lams[i]) for i in range(n)])\n",
    "tau = h * X / lmax\n",
    "print tau"
   ]
  },
  {
   "cell_type": "code",
   "execution_count": 23,
   "metadata": {},
   "outputs": [],
   "source": [
    "result = []\n",
    "result.append(list(U[3]))\n",
    "x_ed = x[1:n]"
   ]
  },
  {
   "cell_type": "code",
   "execution_count": 24,
   "metadata": {},
   "outputs": [
    {
     "name": "stdout",
     "output_type": "stream",
     "text": [
      "[ 0.60092521  0.          0.          1.040833    0.        ]\n",
      "[ 0.60092521  0.          0.          1.040833    0.        ]\n"
     ]
    }
   ],
   "source": [
    "print OMEGA[0]\n",
    "print OMEGAs[0][0]"
   ]
  },
  {
   "cell_type": "code",
   "execution_count": 25,
   "metadata": {},
   "outputs": [
    {
     "name": "stdout",
     "output_type": "stream",
     "text": [
      "True\n",
      "True\n",
      "True\n",
      "True\n",
      "True\n",
      "True\n",
      "True\n",
      "True\n",
      "True\n",
      "True\n",
      "True\n",
      "True\n",
      "True\n",
      "True\n",
      "True\n",
      "True\n",
      "True\n",
      "True\n",
      "True\n",
      "True\n",
      "True\n",
      "True\n",
      "True\n",
      "True\n",
      "True\n",
      "True\n",
      "True\n",
      "True\n",
      "True\n",
      "True\n",
      "True\n",
      "True\n",
      "True\n",
      "True\n",
      "True\n",
      "True\n",
      "True\n",
      "True\n",
      "True\n",
      "True\n",
      "True\n",
      "True\n",
      "True\n",
      "True\n",
      "True\n",
      "True\n",
      "True\n",
      "True\n",
      "True\n",
      "True\n",
      "True\n",
      "True\n",
      "True\n",
      "True\n",
      "True\n",
      "True\n",
      "True\n",
      "True\n",
      "True\n",
      "True\n",
      "True\n",
      "True\n",
      "True\n",
      "True\n",
      "True\n",
      "True\n",
      "True\n",
      "True\n",
      "True\n",
      "True\n",
      "True\n",
      "True\n",
      "True\n",
      "True\n",
      "True\n",
      "True\n",
      "True\n",
      "True\n",
      "True\n",
      "True\n",
      "True\n",
      "True\n",
      "True\n",
      "True\n",
      "True\n",
      "True\n",
      "True\n",
      "True\n",
      "True\n",
      "True\n",
      "True\n",
      "True\n",
      "True\n",
      "True\n",
      "True\n",
      "True\n",
      "True\n",
      "True\n",
      "True\n"
     ]
    }
   ],
   "source": [
    "for i in range(1,n):\n",
    "    '''print x[i-1], x[i] - lams[i-1][0]*tau, x[i+1]'''\n",
    "    print x[i-1] <= x[i] - lams[i-1][0]*tau <= x[i+1]"
   ]
  },
  {
   "cell_type": "code",
   "execution_count": 26,
   "metadata": {},
   "outputs": [
    {
     "name": "stdout",
     "output_type": "stream",
     "text": [
      "289\n"
     ]
    }
   ],
   "source": [
    "time = int(1.0 / tau) + 1\n",
    "print time"
   ]
  },
  {
   "cell_type": "code",
   "execution_count": 27,
   "metadata": {},
   "outputs": [
    {
     "data": {
      "text/plain": [
       "array([-1.73205081, -1.        ,  0.        ,  1.        ,  1.73205081])"
      ]
     },
     "execution_count": 27,
     "metadata": {},
     "output_type": "execute_result"
    }
   ],
   "source": [
    "lams[0]"
   ]
  },
  {
   "cell_type": "code",
   "execution_count": 28,
   "metadata": {},
   "outputs": [],
   "source": [
    "for j in range(3*time):\n",
    "    Um = []\n",
    "    Up = []\n",
    "    '''\n",
    "    Um.append(list([0,0,0,0,0]))\n",
    "    Up.append(list([0,0,0,0,0]))\n",
    "    '''\n",
    "    u01 = interp1d([x[0], x[1]], [U[0][0], U[0][1]])\n",
    "    u02 = interp1d([x[0], x[1]], [U[1][0], U[1][1]])\n",
    "    u03 = interp1d([x[0], x[1]], [U[2][0], U[2][1]])\n",
    "    u04 = interp1d([x[0], x[1]], [U[3][0], U[3][1]])\n",
    "    u05 = interp1d([x[0], x[1]], [U[4][0], U[4][1]])\n",
    "    B = [OMEGAs[0][0], OMEGAs[0][1], OMEGAs[0][2], np.array([0,0,0,0,1]), np.array([0,0,0,1,0])]\n",
    "    u0 = [u01(x[0] - lams[0][0]*tau), u02(x[0] - lams[0][0]*tau), u03(x[0] - lams[0][0]*tau), u04(x[0] - lams[0][0]*tau), u05(x[0] - lams[0][0]*tau)]\n",
    "    right = [np.matmul(OMEGAs[0][0], u0)]\n",
    "    u0 = [u01(x[0] - lams[0][1]*tau), u02(x[0] - lams[0][1]*tau), u03(x[0] - lams[0][1]*tau), u04(x[0] - lams[0][1]*tau), u05(x[0] - lams[0][1]*tau)]\n",
    "    right = np.append(right, np.matmul(OMEGAs[0][1], u0))\n",
    "    u0 = [u01(x[0] - lams[0][2]*tau), u02(x[0] - lams[0][2]*tau), u03(x[0] - lams[0][2]*tau), u04(x[0] - lams[0][2]*tau), u05(x[0] - lams[0][2]*tau)]\n",
    "    right = np.append(right, np.matmul(OMEGAs[0][2], u0))\n",
    "    right = np.append(right, [0,0])\n",
    "    v = np.linalg.solve(B, right)\n",
    "    Um.append(list(v))\n",
    "    Up.append(list(v))\n",
    "    for i in range(1,n):\n",
    "        u01 = interp1d([x[i-1], x[i], x[i+1]], [U[0][i-1], U[0][i], U[0][i+1]])\n",
    "        u02 = interp1d([x[i-1], x[i], x[i+1]], [U[1][i-1], U[1][i], U[1][i+1]])\n",
    "        u03 = interp1d([x[i-1], x[i], x[i+1]], [U[2][i-1], U[2][i], U[2][i+1]])\n",
    "        u04 = interp1d([x[i-1], x[i], x[i+1]], [U[3][i-1], U[3][i], U[3][i+1]])\n",
    "        u05 = interp1d([x[i-1], x[i], x[i+1]], [U[4][i-1], U[4][i], U[4][i+1]])\n",
    "        B = [np.append(OMEGAs[i][0], nul), np.append(OMEGAs[i][1], nul), np.append(OMEGAs[i][2], nul), np.append(nul, OMEGAs[i-1][2]), np.append(nul, OMEGAs[i-1][3]), np.append(nul, OMEGAs[i-1][4]), np.array([0,0,0,0,1,0,0,0,0,-1]), np.array([0,0,0,1,0,0,0,0,-1,0]),np.array([1,0,0,0,0,-1,0,0,0,0]),np.array([0,0,1,0,0,0,0,-1,0,0])]\n",
    "        u0 = [u01(x[i] - lams[i][0]*tau), u02(x[i] - lams[i][0]*tau), u03(x[i] - lams[i][0]*tau), u04(x[i] - lams[i][0]*tau), u05(x[i] - lams[i][0]*tau)]\n",
    "        right = [np.matmul(OMEGAs[i][0], u0)]\n",
    "        u0 = [u01(x[i] - lams[i][1]*tau), u02(x[i] - lams[i][1]*tau), u03(x[i] - lams[i][1]*tau), u04(x[i] - lams[i][1]*tau), u05(x[i] - lams[i][1]*tau)]\n",
    "        right = np.append(right, np.matmul(OMEGAs[i][1], u0))\n",
    "        u0 = [u01(x[i] - lams[i][2]*tau), u02(x[i] - lams[i][2]*tau), u03(x[i] - lams[i][2]*tau), u04(x[i] - lams[i][2]*tau), u05(x[i] - lams[i][2]*tau)]\n",
    "        right = np.append(right, np.matmul(OMEGAs[i][2], u0))\n",
    "        u0 = [u01(x[i] - lams[i-1][2]*tau), u02(x[i] - lams[i-1][2]*tau), u03(x[i] - lams[i-1][2]*tau), u04(x[i] - lams[i-1][2]*tau), u05(x[i] - lams[i-1][2]*tau)]\n",
    "        right = np.append(right, np.matmul(OMEGAs[i-1][2], u0))\n",
    "        u0 = [u01(x[i] - lams[i-1][3]*tau), u02(x[i] - lams[i-1][3]*tau), u03(x[i] - lams[i-1][3]*tau), u04(x[i] - lams[i-1][3]*tau), u05(x[i] - lams[i-1][3]*tau)]\n",
    "        right = np.append(right, np.matmul(OMEGAs[i-1][3], u0))\n",
    "        u0 = [u01(x[i] - lams[i-1][4]*tau), u02(x[i] - lams[i-1][4]*tau), u03(x[i] - lams[i-1][4]*tau), u04(x[i] - lams[i-1][4]*tau), u05(x[i] - lams[i-1][4]*tau)]\n",
    "        right = np.append(right, np.matmul(OMEGAs[i-1][4], u0))\n",
    "        right = np.append(right, [0,0,0,0])\n",
    "        v = np.linalg.solve(B, right)\n",
    "        Up.append(list(v[:5]))\n",
    "        Um.append(list(v[5:]))\n",
    "    u01 = interp1d([x[n-1], x[n]], [U[0][n-1], U[0][n]])\n",
    "    u02 = interp1d([x[n-1], x[n]], [U[1][n-1], U[1][n]])\n",
    "    u03 = interp1d([x[n-1], x[n]], [U[2][n-1], U[2][n]])\n",
    "    u04 = interp1d([x[n-1], x[n]], [U[3][n-1], U[3][n]])\n",
    "    u05 = interp1d([x[n-1], x[n]], [U[4][n-1], U[4][n]])\n",
    "    B = [OMEGAs[n-1][2], OMEGAs[n-1][3], OMEGAs[n-1][4], np.array([0,0,0,0,1]), np.array([0,0,0,1,0])]\n",
    "    u0 = [u01(x[n] - lams[n-1][2]*tau), u02(x[n] - lams[n-1][2]*tau), u03(x[n] - lams[n-1][2]*tau), u04(x[n] - lams[n-1][2]*tau), u05(x[n] - lams[n-1][2]*tau)]\n",
    "    right = [np.matmul(OMEGAs[n-1][2], u0)]\n",
    "    u0 = [u01(x[n] - lams[n-1][3]*tau), u02(x[n] - lams[n-1][3]*tau), u03(x[n] - lams[n-1][3]*tau), u04(x[n] - lams[n-1][3]*tau), u05(x[n] - lams[n-1][3]*tau)]\n",
    "    right = np.append(right, np.matmul(OMEGAs[n-1][3], u0))\n",
    "    u0 = [u01(x[n] - lams[n-1][4]*tau), u02(x[n] - lams[n-1][4]*tau), u03(x[n] - lams[n-1][4]*tau), u04(x[n] - lams[n-1][4]*tau), u05(x[n] - lams[n-1][4]*tau)]\n",
    "    right = np.append(right, np.matmul(OMEGAs[n-1][4], u0))\n",
    "    right = np.append(right, [0,0])\n",
    "    v = np.linalg.solve(B, right)\n",
    "    Um.append(list(v))\n",
    "    Up.append(list(v))\n",
    "    for i in range(5):\n",
    "        U[i] = np.array(Um)[:, i]\n",
    "    result.append(list(U[3]))"
   ]
  },
  {
   "cell_type": "code",
   "execution_count": 29,
   "metadata": {},
   "outputs": [
    {
     "data": {
      "text/plain": [
       "1.7320508075688772"
      ]
     },
     "execution_count": 29,
     "metadata": {},
     "output_type": "execute_result"
    }
   ],
   "source": [
    "lams[n-1][4]"
   ]
  },
  {
   "cell_type": "code",
   "execution_count": 30,
   "metadata": {},
   "outputs": [
    {
     "data": {
      "text/plain": [
       "[-1.0, 1.0, -1, 1]"
      ]
     },
     "execution_count": 30,
     "metadata": {},
     "output_type": "execute_result"
    },
    {
     "data": {
      "image/png": "[encoded data removed]",
      "text/plain": [
       "<matplotlib.figure.Figure at 0x181c3778d0>"
      ]
     },
     "metadata": {},
     "output_type": "display_data"
    }
   ],
   "source": [
    "fig = plt.figure(figsize=(8, 6))\n",
    "axis = fig.add_axes([0, 0, 1, 1])\n",
    "axis.clear()\n",
    "axis.plot(x, np.array(Um)[:, 1], 'r') #, x, result[1][i], 'b')\n",
    "axis.axis([a, b, -1, 1])"
   ]
  },
  {
   "cell_type": "code",
   "execution_count": 31,
   "metadata": {},
   "outputs": [
    {
     "name": "stderr",
     "output_type": "stream",
     "text": [
      "IOPub data rate exceeded.\n",
      "The notebook server will temporarily stop sending output\n",
      "to the client in order to avoid crashing it.\n",
      "To change this limit, set the config variable\n",
      "`--NotebookApp.iopub_data_rate_limit`.\n"
     ]
    }
   ],
   "source": [
    "fig = plt.figure(figsize=(8, 6))\n",
    "axis = fig.add_axes([0, 0, 1, 1])\n",
    "\n",
    "def animate(i):\n",
    "    axis.clear()\n",
    "    axis.plot(x, result[i], 'r') #, x, result[1][i], 'b')\n",
    "    axis.axis([a, b, -1, 2])\n",
    "\n",
    "def init():\n",
    "    axis.plot(x, result[0], 'r') #, x, result[1][0], 'b')\n",
    "    axis.axis([a, b, -1, 2])\n",
    "\n",
    "\n",
    "animation.FuncAnimation(fig, animate, frames=len(result), \n",
    "                        init_func=init,interval=300, blit=False)"
   ]
  },
  {
   "cell_type": "code",
   "execution_count": 65,
   "metadata": {},
   "outputs": [
    {
     "data": {
      "image/png": "[encoded data removed]",
      "text/plain": [
       "<matplotlib.figure.Figure at 0x1156b5450>"
      ]
     },
     "metadata": {},
     "output_type": "display_data"
    }
   ],
   "source": [
    "from matplotlib.animation import ArtistAnimation\n",
    "fig = plt.figure(figsize=(18, 16)) \n",
    "ax  = fig.add_subplot(111) \n",
    "\n",
    "ax.set_xlim(-1, 1)\n",
    "ax.set_ylim(-2,2)\n",
    "\n",
    "images = []\n",
    "for i in xrange(3*time):\n",
    "    line, = ax.plot(x,result[i], '-')\n",
    "    images.append((line,))\n",
    "line_anim = ArtistAnimation(fig, images, interval=200, blit=False)\n",
    "line_anim.save('2.mp4')"
   ]
  },
  {
   "cell_type": "code",
   "execution_count": null,
   "metadata": {
    "collapsed": true
   },
   "outputs": [],
   "source": []
  }
 ],
 "metadata": {
  "anaconda-cloud": {},
  "kernelspec": {
   "display_name": "Python [Root]",
   "language": "python",
   "name": "Python [Root]"
  },
  "language_info": {
   "codemirror_mode": {
    "name": "ipython",
    "version": 2
   },
   "file_extension": ".py",
   "mimetype": "text/x-python",
   "name": "python",
   "nbconvert_exporter": "python",
   "pygments_lexer": "ipython2",
   "version": "2.7.14"
  }
 },
 "nbformat": 4,
 "nbformat_minor": 1
}
