{
 "cells": [
  {
   "cell_type": "markdown",
   "metadata": {},
   "source": [
    "## Решение системы уравнений упругой динамики (одномерный случай)\n",
    "#### со свободной границей\n",
    "#### с начальными данными - косинус"
   ]
  },
  {
   "cell_type": "code",
   "execution_count": 66,
   "metadata": {
    "collapsed": true
   },
   "outputs": [],
   "source": [
    "import numpy as np\n",
    "import math as m\n",
    "from sympy import *\n",
    "#from sympy.abc import x\n",
    "import pylab as py\n",
    "from JSAnimation import IPython_display\n",
    "import matplotlib.animation as animation\n",
    "import matplotlib.pyplot as plt\n",
    "from numpy import linalg as LA\n",
    "from scipy.interpolate import interp1d\n",
    "%matplotlib inline"
   ]
  },
  {
   "cell_type": "code",
   "execution_count": 67,
   "metadata": {
    "collapsed": false
   },
   "outputs": [
    {
     "name": "stdout",
     "output_type": "stream",
     "text": [
      "Enter number of segments\n",
      "100\n",
      "Enter ends of segment\n",
      "-1 1\n"
     ]
    }
   ],
   "source": [
    "print 'Enter number of segments'\n",
    "n = int(raw_input()) #кол-во отрезков\n",
    "print 'Enter ends of segment'\n",
    "a , b = raw_input().split() #отрезок\n",
    "a = float(a)\n",
    "b = float(b)\n",
    "h = (b - a) / n"
   ]
  },
  {
   "cell_type": "markdown",
   "metadata": {},
   "source": [
    "$$\n",
    "\\frac{\\partial \\vec U}{\\partial t} + A \\frac{\\partial \\vec U}{\\partial x} = 0\n",
    "$$\n",
    "\n",
    "Enter A"
   ]
  },
  {
   "cell_type": "code",
   "execution_count": 68,
   "metadata": {
    "collapsed": true
   },
   "outputs": [],
   "source": [
    "l = 1\n",
    "m = 1\n",
    "rho = 1"
   ]
  },
  {
   "cell_type": "code",
   "execution_count": 69,
   "metadata": {
    "collapsed": false
   },
   "outputs": [],
   "source": [
    "A = np.array([[0,0,0,-(l+2*m),0],[0,0,0,-l,0],[0,0,0,0,-m],[-1./rho,0,0,0,0],[0,0,-1./rho,0,0]])\n",
    "As = [0 for i in range(n)]\n",
    "for i in range(n):\n",
    "    As[i] = A"
   ]
  },
  {
   "cell_type": "code",
   "execution_count": 70,
   "metadata": {
    "collapsed": false
   },
   "outputs": [
    {
     "data": {
      "text/plain": [
       "(100, 5, 5)"
      ]
     },
     "execution_count": 70,
     "metadata": {},
     "output_type": "execute_result"
    }
   ],
   "source": [
    "np.shape(As)"
   ]
  },
  {
   "cell_type": "code",
   "execution_count": 71,
   "metadata": {
    "collapsed": true
   },
   "outputs": [],
   "source": [
    "lams = [0 for i in range(n)]\n",
    "OMEGA_s = [0 for i in range(n)]\n",
    "OMEGAs = [0 for i in range(n)]"
   ]
  },
  {
   "cell_type": "code",
   "execution_count": 72,
   "metadata": {
    "collapsed": false
   },
   "outputs": [],
   "source": [
    "for i in range(n):\n",
    "    lam, OMEGA_ = LA.eig(As[i])\n",
    "    lam = np.array([lam[2], lam[4], lam[0], lam[3], lam[1]])\n",
    "    OMEGA_ = np.array([OMEGA_[:, 2], OMEGA_[:, 4], OMEGA_[:, 0], OMEGA_[:, 3], OMEGA_[:, 1]])\n",
    "    OMEGA_ = np.transpose(OMEGA_)\n",
    "    OMEGA = LA.inv(OMEGA_)\n",
    "    lams[i] = lam\n",
    "    OMEGA_s[i] = OMEGA_\n",
    "    OMEGAs[i] = OMEGA"
   ]
  },
  {
   "cell_type": "code",
   "execution_count": 73,
   "metadata": {
    "collapsed": false
   },
   "outputs": [
    {
     "name": "stdout",
     "output_type": "stream",
     "text": [
      "[-1.73205081 -1.          0.          1.          1.73205081]\n"
     ]
    }
   ],
   "source": [
    "print lams[1]"
   ]
  },
  {
   "cell_type": "code",
   "execution_count": 74,
   "metadata": {
    "collapsed": false
   },
   "outputs": [],
   "source": [
    "LAMBDAs = [0 for i in range(n)]\n",
    "LAMBDA = np.zeros([5,5])\n",
    "for j in range(n):\n",
    "    for i in range(5):\n",
    "        LAMBDA[i,i] = lams[j][i]\n",
    "    LAMBDAs[j] = LAMBDA"
   ]
  },
  {
   "cell_type": "code",
   "execution_count": 75,
   "metadata": {
    "collapsed": false
   },
   "outputs": [
    {
     "data": {
      "text/plain": [
       "(100, 5, 5)"
      ]
     },
     "execution_count": 75,
     "metadata": {},
     "output_type": "execute_result"
    }
   ],
   "source": [
    "np.shape(LAMBDAs)"
   ]
  },
  {
   "cell_type": "code",
   "execution_count": 76,
   "metadata": {
    "collapsed": false
   },
   "outputs": [
    {
     "name": "stdout",
     "output_type": "stream",
     "text": [
      "[[ -1.54916829e-16   0.00000000e+00   0.00000000e+00  -3.00000000e+00\n",
      "    0.00000000e+00]\n",
      " [  6.68533256e-17   0.00000000e+00   0.00000000e+00  -1.00000000e+00\n",
      "    0.00000000e+00]\n",
      " [  0.00000000e+00   0.00000000e+00  -1.01465364e-17   0.00000000e+00\n",
      "   -1.00000000e+00]\n",
      " [ -1.00000000e+00   0.00000000e+00   0.00000000e+00  -6.85479099e-17\n",
      "    0.00000000e+00]\n",
      " [  0.00000000e+00   0.00000000e+00  -1.00000000e+00   0.00000000e+00\n",
      "   -1.01465364e-17]]\n"
     ]
    }
   ],
   "source": [
    "TEMP = np.matmul(OMEGA_s[1], LAMBDAs[1])\n",
    "print np.matmul(TEMP, OMEGAs[1])"
   ]
  },
  {
   "cell_type": "code",
   "execution_count": 77,
   "metadata": {
    "collapsed": false
   },
   "outputs": [],
   "source": [
    "nul = [0,0,0,0,0]"
   ]
  },
  {
   "cell_type": "code",
   "execution_count": 78,
   "metadata": {
    "collapsed": false
   },
   "outputs": [
    {
     "name": "stdout",
     "output_type": "stream",
     "text": [
      "Enter X for tau\n",
      "0.999\n"
     ]
    }
   ],
   "source": [
    "# tau = h / c *(X), такое что c*tau/h < 1\n",
    "print 'Enter X for tau'\n",
    "X = float(raw_input())"
   ]
  },
  {
   "cell_type": "code",
   "execution_count": 79,
   "metadata": {
    "collapsed": false
   },
   "outputs": [],
   "source": [
    "def f(x):\n",
    "    return 1 + np.cos(np.pi * x)"
   ]
  },
  {
   "cell_type": "code",
   "execution_count": 80,
   "metadata": {
    "collapsed": true
   },
   "outputs": [],
   "source": [
    "def fp(x):\n",
    "    if x >= 0:\n",
    "        return f(x)\n",
    "    else:\n",
    "        return 0"
   ]
  },
  {
   "cell_type": "code",
   "execution_count": 81,
   "metadata": {
    "collapsed": false
   },
   "outputs": [],
   "source": [
    "def fm(x):\n",
    "    if x <= 0:\n",
    "        return f(x)\n",
    "    else:\n",
    "        return 0"
   ]
  },
  {
   "cell_type": "code",
   "execution_count": 82,
   "metadata": {
    "collapsed": false
   },
   "outputs": [],
   "source": [
    "U = np.zeros([10,n+1]) # решение\n",
    "x = np.linspace(a, b, n+1) #сетка"
   ]
  },
  {
   "cell_type": "code",
   "execution_count": 83,
   "metadata": {
    "collapsed": false
   },
   "outputs": [],
   "source": [
    "#for j in range(5):\n",
    "for i in range(n+1):\n",
    "    U[3][i] = f(x[i])\n",
    "    U[8][i] = f(x[i])"
   ]
  },
  {
   "cell_type": "code",
   "execution_count": 84,
   "metadata": {
    "collapsed": false
   },
   "outputs": [
    {
     "name": "stdout",
     "output_type": "stream",
     "text": [
      "1.0\n"
     ]
    },
    {
     "data": {
      "image/png": "[encoded data removed]",
      "text/plain": [
       "<matplotlib.figure.Figure at 0x112d5b250>"
      ]
     },
     "metadata": {},
     "output_type": "display_data"
    }
   ],
   "source": [
    "test = interp1d([-1, 0, 1], [1 ,0, 1])\n",
    "print test(-1)\n",
    "testx = np.linspace(-1, 1, 100)\n",
    "testnew = test(testx)\n",
    "plt.plot([-1, 0, 1], [1 ,0, 1], 'o', testx, testnew, '-')\n",
    "plt.show()"
   ]
  },
  {
   "cell_type": "code",
   "execution_count": 85,
   "metadata": {
    "collapsed": false
   },
   "outputs": [
    {
     "data": {
      "text/plain": [
       "array(1.9110644108215775)"
      ]
     },
     "execution_count": 85,
     "metadata": {},
     "output_type": "execute_result"
    }
   ],
   "source": [
    "right = interp1d(x, U[3])\n",
    "right(0.135)"
   ]
  },
  {
   "cell_type": "code",
   "execution_count": 86,
   "metadata": {
    "collapsed": false
   },
   "outputs": [
    {
     "name": "stdout",
     "output_type": "stream",
     "text": [
      "[  0.00000000e+00   1.97327157e-03   7.88529869e-03   1.77127493e-02\n",
      "   3.14168389e-02   4.89434837e-02   7.02235141e-02   9.51729475e-02\n",
      "   1.23693320e-01   1.55672074e-01   1.90983006e-01   2.29486757e-01\n",
      "   2.71031373e-01   3.15452894e-01   3.62576010e-01   4.12214748e-01\n",
      "   4.64173205e-01   5.18246326e-01   5.74220708e-01   6.31875447e-01\n",
      "   6.90983006e-01   7.51310113e-01   8.12618685e-01   8.74666766e-01\n",
      "   9.37209480e-01   1.00000000e+00   1.06279052e+00   1.12533323e+00\n",
      "   1.18738131e+00   1.24868989e+00   1.30901699e+00   1.36812455e+00\n",
      "   1.42577929e+00   1.48175367e+00   1.53582679e+00   1.58778525e+00\n",
      "   1.63742399e+00   1.68454711e+00   1.72896863e+00   1.77051324e+00\n",
      "   1.80901699e+00   1.84432793e+00   1.87630668e+00   1.90482705e+00\n",
      "   1.92977649e+00   1.95105652e+00   1.96858316e+00   1.98228725e+00\n",
      "   1.99211470e+00   1.99802673e+00   2.00000000e+00   1.99802673e+00\n",
      "   1.99211470e+00   1.98228725e+00   1.96858316e+00   1.95105652e+00\n",
      "   1.92977649e+00   1.90482705e+00   1.87630668e+00   1.84432793e+00\n",
      "   1.80901699e+00   1.77051324e+00   1.72896863e+00   1.68454711e+00\n",
      "   1.63742399e+00   1.58778525e+00   1.53582679e+00   1.48175367e+00\n",
      "   1.42577929e+00   1.36812455e+00   1.30901699e+00   1.24868989e+00\n",
      "   1.18738131e+00   1.12533323e+00   1.06279052e+00   1.00000000e+00\n",
      "   9.37209480e-01   8.74666766e-01   8.12618685e-01   7.51310113e-01\n",
      "   6.90983006e-01   6.31875447e-01   5.74220708e-01   5.18246326e-01\n",
      "   4.64173205e-01   4.12214748e-01   3.62576010e-01   3.15452894e-01\n",
      "   2.71031373e-01   2.29486757e-01   1.90983006e-01   1.55672074e-01\n",
      "   1.23693320e-01   9.51729475e-02   7.02235141e-02   4.89434837e-02\n",
      "   3.14168389e-02   1.77127493e-02   7.88529869e-03   1.97327157e-03\n",
      "   0.00000000e+00]\n"
     ]
    }
   ],
   "source": [
    "print U[3]"
   ]
  },
  {
   "cell_type": "code",
   "execution_count": 87,
   "metadata": {
    "collapsed": false
   },
   "outputs": [
    {
     "data": {
      "image/png": "[encoded data removed]",
      "text/plain": [
       "<matplotlib.figure.Figure at 0x112a0ddd0>"
      ]
     },
     "metadata": {},
     "output_type": "display_data"
    }
   ],
   "source": [
    "py.figure()\n",
    "py.xlabel('x')\n",
    "py.ylabel('U')\n",
    "#py.ylim(0,1.1)\n",
    "py.plot(x, U[3], 'r')\n",
    "py.show()"
   ]
  },
  {
   "cell_type": "code",
   "execution_count": 88,
   "metadata": {
    "collapsed": false
   },
   "outputs": [
    {
     "name": "stdout",
     "output_type": "stream",
     "text": [
      "0.0115354583784\n"
     ]
    }
   ],
   "source": [
    "lmax = max([max(lams[i]) for i in range(n)])\n",
    "tau = h * X / lmax\n",
    "print tau"
   ]
  },
  {
   "cell_type": "code",
   "execution_count": 89,
   "metadata": {
    "collapsed": false
   },
   "outputs": [],
   "source": [
    "result = []\n",
    "result.append(list(U[3]))\n",
    "x_ed = x[1:n]"
   ]
  },
  {
   "cell_type": "code",
   "execution_count": 90,
   "metadata": {
    "collapsed": false
   },
   "outputs": [
    {
     "name": "stdout",
     "output_type": "stream",
     "text": [
      "[ 0.60092521  0.          0.          1.040833    0.        ]\n",
      "[ 0.60092521  0.          0.          1.040833    0.        ]\n"
     ]
    }
   ],
   "source": [
    "print OMEGA[0]\n",
    "print OMEGAs[0][0]"
   ]
  },
  {
   "cell_type": "code",
   "execution_count": 91,
   "metadata": {
    "collapsed": false
   },
   "outputs": [
    {
     "name": "stdout",
     "output_type": "stream",
     "text": [
      "True\n",
      "True\n",
      "True\n",
      "True\n",
      "True\n",
      "True\n",
      "True\n",
      "True\n",
      "True\n",
      "True\n",
      "True\n",
      "True\n",
      "True\n",
      "True\n",
      "True\n",
      "True\n",
      "True\n",
      "True\n",
      "True\n",
      "True\n",
      "True\n",
      "True\n",
      "True\n",
      "True\n",
      "True\n",
      "True\n",
      "True\n",
      "True\n",
      "True\n",
      "True\n",
      "True\n",
      "True\n",
      "True\n",
      "True\n",
      "True\n",
      "True\n",
      "True\n",
      "True\n",
      "True\n",
      "True\n",
      "True\n",
      "True\n",
      "True\n",
      "True\n",
      "True\n",
      "True\n",
      "True\n",
      "True\n",
      "True\n",
      "True\n",
      "True\n",
      "True\n",
      "True\n",
      "True\n",
      "True\n",
      "True\n",
      "True\n",
      "True\n",
      "True\n",
      "True\n",
      "True\n",
      "True\n",
      "True\n",
      "True\n",
      "True\n",
      "True\n",
      "True\n",
      "True\n",
      "True\n",
      "True\n",
      "True\n",
      "True\n",
      "True\n",
      "True\n",
      "True\n",
      "True\n",
      "True\n",
      "True\n",
      "True\n",
      "True\n",
      "True\n",
      "True\n",
      "True\n",
      "True\n",
      "True\n",
      "True\n",
      "True\n",
      "True\n",
      "True\n",
      "True\n",
      "True\n",
      "True\n",
      "True\n",
      "True\n",
      "True\n",
      "True\n",
      "True\n",
      "True\n",
      "True\n"
     ]
    }
   ],
   "source": [
    "for i in range(1,n):\n",
    "    '''print x[i-1], x[i] - lams[i-1][0]*tau, x[i+1]'''\n",
    "    print x[i-1] <= x[i] - lams[i-1][0]*tau <= x[i+1]"
   ]
  },
  {
   "cell_type": "code",
   "execution_count": 92,
   "metadata": {
    "collapsed": false
   },
   "outputs": [
    {
     "name": "stdout",
     "output_type": "stream",
     "text": [
      "87\n"
     ]
    }
   ],
   "source": [
    "time = int(1.0 / tau) + 1\n",
    "print time"
   ]
  },
  {
   "cell_type": "code",
   "execution_count": 93,
   "metadata": {
    "collapsed": false
   },
   "outputs": [
    {
     "data": {
      "text/plain": [
       "array([-1.73205081, -1.        ,  0.        ,  1.        ,  1.73205081])"
      ]
     },
     "execution_count": 93,
     "metadata": {},
     "output_type": "execute_result"
    }
   ],
   "source": [
    "lams[0]"
   ]
  },
  {
   "cell_type": "code",
   "execution_count": 94,
   "metadata": {
    "collapsed": false
   },
   "outputs": [],
   "source": [
    "for j in range(2*time):\n",
    "    Um = []\n",
    "    Up = []\n",
    "    '''\n",
    "    Um.append(list([0,0,0,0,0]))\n",
    "    Up.append(list([0,0,0,0,0]))\n",
    "    '''\n",
    "    u01 = interp1d([x[0], x[1]], [U[0][0], U[0][1]])\n",
    "    u02 = interp1d([x[0], x[1]], [U[1][0], U[1][1]])\n",
    "    u03 = interp1d([x[0], x[1]], [U[2][0], U[2][1]])\n",
    "    u04 = interp1d([x[0], x[1]], [U[3][0], U[3][1]])\n",
    "    u05 = interp1d([x[0], x[1]], [U[4][0], U[4][1]])\n",
    "    B = [OMEGAs[0][0], OMEGAs[0][1], OMEGAs[0][2], np.array([1,0,0,0,0]), np.array([0,0,1,0,0])]\n",
    "    u0 = [u01(x[0] - lams[0][0]*tau), u02(x[0] - lams[0][0]*tau), u03(x[0] - lams[0][0]*tau), u04(x[0] - lams[0][0]*tau), u05(x[0] - lams[0][0]*tau)]\n",
    "    right = [np.matmul(OMEGAs[0][0], u0)]\n",
    "    u0 = [u01(x[0] - lams[0][1]*tau), u02(x[0] - lams[0][1]*tau), u03(x[0] - lams[0][1]*tau), u04(x[0] - lams[0][1]*tau), u05(x[0] - lams[0][1]*tau)]\n",
    "    right = np.append(right, np.matmul(OMEGAs[0][1], u0))\n",
    "    u0 = [u01(x[0] - lams[0][2]*tau), u02(x[0] - lams[0][2]*tau), u03(x[0] - lams[0][2]*tau), u04(x[0] - lams[0][2]*tau), u05(x[0] - lams[0][2]*tau)]\n",
    "    right = np.append(right, np.matmul(OMEGAs[0][2], u0))\n",
    "    right = np.append(right, [0,0])\n",
    "    v = np.linalg.solve(B, right)\n",
    "    Um.append(list(v))\n",
    "    Up.append(list(v))\n",
    "    for i in range(1,n):\n",
    "        u01 = interp1d([x[i-1], x[i], x[i+1]], [U[0][i-1], U[0][i], U[0][i+1]])\n",
    "        u02 = interp1d([x[i-1], x[i], x[i+1]], [U[1][i-1], U[1][i], U[1][i+1]])\n",
    "        u03 = interp1d([x[i-1], x[i], x[i+1]], [U[2][i-1], U[2][i], U[2][i+1]])\n",
    "        u04 = interp1d([x[i-1], x[i], x[i+1]], [U[3][i-1], U[3][i], U[3][i+1]])\n",
    "        u05 = interp1d([x[i-1], x[i], x[i+1]], [U[4][i-1], U[4][i], U[4][i+1]])\n",
    "        B = [np.append(OMEGAs[i][0], nul), np.append(OMEGAs[i][1], nul), np.append(OMEGAs[i][2], nul), np.append(nul, OMEGAs[i-1][2]), np.append(nul, OMEGAs[i-1][3]), np.append(nul, OMEGAs[i-1][4]), np.array([0,0,0,0,1,0,0,0,0,-1]), np.array([0,0,0,1,0,0,0,0,-1,0]),np.array([1,0,0,0,0,-1,0,0,0,0]),np.array([0,0,1,0,0,0,0,-1,0,0])]\n",
    "        u0 = [u01(x[i] - lams[i][0]*tau), u02(x[i] - lams[i][0]*tau), u03(x[i] - lams[i][0]*tau), u04(x[i] - lams[i][0]*tau), u05(x[i] - lams[i][0]*tau)]\n",
    "        right = [np.matmul(OMEGAs[i][0], u0)]\n",
    "        u0 = [u01(x[i] - lams[i][1]*tau), u02(x[i] - lams[i][1]*tau), u03(x[i] - lams[i][1]*tau), u04(x[i] - lams[i][1]*tau), u05(x[i] - lams[i][1]*tau)]\n",
    "        right = np.append(right, np.matmul(OMEGAs[i][1], u0))\n",
    "        u0 = [u01(x[i] - lams[i][2]*tau), u02(x[i] - lams[i][2]*tau), u03(x[i] - lams[i][2]*tau), u04(x[i] - lams[i][2]*tau), u05(x[i] - lams[i][2]*tau)]\n",
    "        right = np.append(right, np.matmul(OMEGAs[i][2], u0))\n",
    "        u0 = [u01(x[i] - lams[i-1][2]*tau), u02(x[i] - lams[i-1][2]*tau), u03(x[i] - lams[i-1][2]*tau), u04(x[i] - lams[i-1][2]*tau), u05(x[i] - lams[i-1][2]*tau)]\n",
    "        right = np.append(right, np.matmul(OMEGAs[i-1][2], u0))\n",
    "        u0 = [u01(x[i] - lams[i-1][3]*tau), u02(x[i] - lams[i-1][3]*tau), u03(x[i] - lams[i-1][3]*tau), u04(x[i] - lams[i-1][3]*tau), u05(x[i] - lams[i-1][3]*tau)]\n",
    "        right = np.append(right, np.matmul(OMEGAs[i-1][3], u0))\n",
    "        u0 = [u01(x[i] - lams[i-1][4]*tau), u02(x[i] - lams[i-1][4]*tau), u03(x[i] - lams[i-1][4]*tau), u04(x[i] - lams[i-1][4]*tau), u05(x[i] - lams[i-1][4]*tau)]\n",
    "        right = np.append(right, np.matmul(OMEGAs[i-1][4], u0))\n",
    "        right = np.append(right, [0,0,0,0])\n",
    "        v = np.linalg.solve(B, right)\n",
    "        Up.append(list(v[:5]))\n",
    "        Um.append(list(v[5:]))\n",
    "    u01 = interp1d([x[n-1], x[n]], [U[0][n-1], U[0][n]])\n",
    "    u02 = interp1d([x[n-1], x[n]], [U[1][n-1], U[1][n]])\n",
    "    u03 = interp1d([x[n-1], x[n]], [U[2][n-1], U[2][n]])\n",
    "    u04 = interp1d([x[n-1], x[n]], [U[3][n-1], U[3][n]])\n",
    "    u05 = interp1d([x[n-1], x[n]], [U[4][n-1], U[4][n]])\n",
    "    B = [OMEGAs[n-1][2], OMEGAs[n-1][3], OMEGAs[n-1][4], np.array([1,0,0,0,0]), np.array([0,0,1,0,0])]\n",
    "    u0 = [u01(x[n] - lams[n-1][2]*tau), u02(x[n] - lams[n-1][2]*tau), u03(x[n] - lams[n-1][2]*tau), u04(x[n] - lams[n-1][2]*tau), u05(x[n] - lams[n-1][2]*tau)]\n",
    "    right = [np.matmul(OMEGAs[n-1][2], u0)]\n",
    "    u0 = [u01(x[n] - lams[n-1][3]*tau), u02(x[n] - lams[n-1][3]*tau), u03(x[n] - lams[n-1][3]*tau), u04(x[n] - lams[n-1][3]*tau), u05(x[n] - lams[n-1][3]*tau)]\n",
    "    right = np.append(right, np.matmul(OMEGAs[n-1][3], u0))\n",
    "    u0 = [u01(x[n] - lams[n-1][4]*tau), u02(x[n] - lams[n-1][4]*tau), u03(x[n] - lams[n-1][4]*tau), u04(x[n] - lams[n-1][4]*tau), u05(x[n] - lams[n-1][4]*tau)]\n",
    "    right = np.append(right, np.matmul(OMEGAs[n-1][4], u0))\n",
    "    right = np.append(right, [0,0])\n",
    "    v = np.linalg.solve(B, right)\n",
    "    Um.append(list(v))\n",
    "    Up.append(list(v))\n",
    "    for i in range(5):\n",
    "        U[i] = np.array(Um)[:, i]\n",
    "    result.append(list(U[3]))"
   ]
  },
  {
   "cell_type": "code",
   "execution_count": 95,
   "metadata": {
    "collapsed": false
   },
   "outputs": [
    {
     "data": {
      "text/plain": [
       "1.7320508075688772"
      ]
     },
     "execution_count": 95,
     "metadata": {},
     "output_type": "execute_result"
    }
   ],
   "source": [
    "lams[n-1][4]"
   ]
  },
  {
   "cell_type": "code",
   "execution_count": null,
   "metadata": {
    "collapsed": false
   },
   "outputs": [
    {
     "data": {
      "text/plain": [
       "[-1.0, 1.0, -1, 1]"
      ]
     },
     "execution_count": 96,
     "metadata": {},
     "output_type": "execute_result"
    },
    {
     "data": {
      "image/png": "[encoded data removed]",
      "text/plain": [
       "<matplotlib.figure.Figure at 0x113175cd0>"
      ]
     },
     "metadata": {},
     "output_type": "display_data"
    }
   ],
   "source": [
    "fig = plt.figure(figsize=(8, 6))\n",
    "axis = fig.add_axes([0, 0, 1, 1])\n",
    "axis.clear()\n",
    "axis.plot(x, np.array(Um)[:, 1], 'r') #, x, result[1][i], 'b')\n",
    "axis.axis([a, b, -1, 1])"
   ]
  },
  {
   "cell_type": "code",
   "execution_count": null,
   "metadata": {
    "collapsed": false
   },
   "outputs": [],
   "source": [
    "fig = plt.figure(figsize=(8, 6))\n",
    "axis = fig.add_axes([0, 0, 1, 1])\n",
    "\n",
    "def animate(i):\n",
    "    axis.clear()\n",
    "    axis.plot(x, result[i], 'r') #, x, result[1][i], 'b')\n",
    "    axis.axis([a, b, -1, 2])\n",
    "\n",
    "def init():\n",
    "    axis.plot(x, result[0], 'r') #, x, result[1][0], 'b')\n",
    "    axis.axis([a, b, -1, 2])\n",
    "\n",
    "\n",
    "animation.FuncAnimation(fig, animate, frames=len(result), \n",
    "                        init_func=init,interval=300, blit=False)"
   ]
  },
  {
   "cell_type": "code",
   "execution_count": null,
   "metadata": {
    "collapsed": true
   },
   "outputs": [],
   "source": []
  }
 ],
 "metadata": {
  "anaconda-cloud": {},
  "kernelspec": {
   "display_name": "Python [Root]",
   "language": "python",
   "name": "Python [Root]"
  },
  "language_info": {
   "codemirror_mode": {
    "name": "ipython",
    "version": 2
   },
   "file_extension": ".py",
   "mimetype": "text/x-python",
   "name": "python",
   "nbconvert_exporter": "python",
   "pygments_lexer": "ipython2",
   "version": "2.7.11"
  }
 },
 "nbformat": 4,
 "nbformat_minor": 0
}
