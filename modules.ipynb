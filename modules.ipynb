{
 "cells": [
  {
   "cell_type": "code",
   "execution_count": 17,
   "metadata": {
    "collapsed": false
   },
   "outputs": [],
   "source": [
    "import numpy as np\n",
    "import matplotlib.pyplot as ptt\n",
    "\n",
    "\n",
    "'''\n",
    "N = 10\n",
    "A = np.zeros(N)\n",
    "B = np.linspace (0, 10, N)\n",
    "C = np.arange (0, 10, float(10.0 / N) )\n",
    "\n",
    "\n",
    "print A \n",
    "print B\n",
    "print C\n",
    "\n",
    "\n",
    "D = np.ndarray ((2,2))\n",
    "D1 = np.zeros ((2,2))\n",
    "\n",
    "print np.sin(B)\n",
    "'''\n",
    "\n",
    "x = np.linspace(-5,5,100)\n",
    "y = np.sin(x)\n",
    "ptt.plot (x,y,'r-', linewidth = 1, label = 'sin(x)')\n",
    "ptt.grid('on')\n",
    "ptt.legend ()\n",
    "ptt.show()"
   ]
  },
  {
   "cell_type": "code",
   "execution_count": null,
   "metadata": {
    "collapsed": true
   },
   "outputs": [],
   "source": []
  }
 ],
 "metadata": {
  "kernelspec": {
   "display_name": "Python 2",
   "language": "python",
   "name": "python2"
  },
  "language_info": {
   "codemirror_mode": {
    "name": "ipython",
    "version": 2
   },
   "file_extension": ".py",
   "mimetype": "text/x-python",
   "name": "python",
   "nbconvert_exporter": "python",
   "pygments_lexer": "ipython2",
   "version": "2.7.11"
  }
 },
 "nbformat": 4,
 "nbformat_minor": 0
}
